{
 "cells": [
  {
   "cell_type": "code",
   "id": "initial_id",
   "metadata": {
    "collapsed": true,
    "ExecuteTime": {
     "end_time": "2024-08-19T23:09:52.411507Z",
     "start_time": "2024-08-19T23:09:51.743658Z"
    }
   },
   "source": [
    "from dotenv import load_dotenv\n",
    "from sqlalchemy import create_engine, text\n",
    "import os\n",
    "import pandas as pd"
   ],
   "outputs": [],
   "execution_count": 1
  },
  {
   "metadata": {},
   "cell_type": "markdown",
   "source": [
    "## Load experimental gene expression data\n",
    "First, establish a connection"
   ],
   "id": "bf6a722e9b7799ab"
  },
  {
   "metadata": {
    "ExecuteTime": {
     "end_time": "2024-08-19T23:10:08.088264Z",
     "start_time": "2024-08-19T23:10:08.000826Z"
    }
   },
   "cell_type": "code",
   "source": [
    "load_dotenv()\n",
    "db_host = os.getenv('DB_HOST')\n",
    "db_user = os.getenv('DB_USER')\n",
    "db_password = os.getenv('DB_PASS')\n",
    "db_port = 10184\n",
    "database = \"defaultdb\"\n",
    "host_url = rf\"mysql://{db_user}:{db_password}@{db_host}:{db_port}/{database}\"\n",
    "\n",
    "engine = create_engine(host_url)"
   ],
   "id": "8fd6540f3be03ff8",
   "outputs": [],
   "execution_count": 2
  },
  {
   "metadata": {},
   "cell_type": "markdown",
   "source": "Now, gather data from all files",
   "id": "6a0da376bcfd7ca"
  },
  {
   "metadata": {
    "ExecuteTime": {
     "end_time": "2024-08-19T23:15:44.739509Z",
     "start_time": "2024-08-19T23:15:44.711360Z"
    }
   },
   "cell_type": "code",
   "source": [
    "with open('DD_genes.txt', 'r') as f:\n",
    "    genes_DD = f.read().splitlines()\n",
    "\n",
    "with open('LD_genes.txt', 'r') as f:\n",
    "    genes_LD = f.read().splitlines()\n",
    "    \n",
    "print(len(genes_DD))\n",
    "print(len(genes_LD))\n",
    "long_gene = max(set(genes_DD).union(set(genes_LD)), key=lambda x: len(x))\n",
    "print(f\"{long_gene}, lenght={len(long_gene)}\")"
   ],
   "id": "33d3589ab2047f87",
   "outputs": [
    {
     "name": "stdout",
     "output_type": "stream",
     "text": [
      "15650\n",
      "15743\n",
      "alphagamma-element:CR32865, lenght=26\n"
     ]
    }
   ],
   "execution_count": 9
  },
  {
   "metadata": {
    "ExecuteTime": {
     "end_time": "2024-08-19T23:16:55.271514Z",
     "start_time": "2024-08-19T23:16:55.044941Z"
    }
   },
   "cell_type": "code",
   "source": [
    "\n",
    "\n",
    "print(len(genes_LD))\n",
    "print(len(genes_DD))\n",
    "DATA_PATH = r'../dataset/'\n",
    "mapper = lambda x: x[1:]  # removes leading 'x' char in idx strings\n",
    "list_DD = []\n",
    "list_LD = []\n",
    "file_names = os.listdir(DATA_PATH)\n",
    "\n",
    "for filename in file_names:\n",
    "    print(f\"filename: {filename}\")\n",
    "    table_name = filename.split('.')[0]\n",
    "    new_df = pd.read_csv(f\"{DATA_PATH}/{filename}\",\n",
    "                         # na_values=[\"\", \"NaN\", \"NULL\"], \n",
    "                         keep_default_na=False)\n",
    "    new_df = new_df.rename(mapper, axis='columns')\n",
    "    new_df = new_df.rename({'nnamed: 0': 'gene'}, axis='columns')\n",
    "    ddl = pd.io.sql.get_schema(new_df, 'data')\n",
    "    # make table\n",
    "    create_table_query = f\"\"\"\n",
    "    CREATE TABLE IF NOT EXISTS {table_name} (\n",
    "        gene VARCHAR(30) PRIMARY KEY, \n",
    "    {'\\n'.join(ddl.split('\\n')[2:])};\n",
    "    \"\"\"\n",
    "    print(create_table_query)\n",
    "    break\n",
    "    # with engine.connect() as connection:\n",
    "    #     connection.execute(text(create_table_query))\n",
    "    # \n",
    "    # new_df.to_sql(name=table_name,\n",
    "    #               con=engine,\n",
    "    #               index=False,\n",
    "    #               if_exists='append')\n",
    "    # break\n",
    "\n",
    "# df_LD = pd.concat(list_LD)\n",
    "# df_DD = pd.concat(list_DD)"
   ],
   "id": "7d9192c36c3ec7b5",
   "outputs": [
    {
     "name": "stdout",
     "output_type": "stream",
     "text": [
      "15743\n",
      "15650\n",
      "filename: GSM4768020_CT02_20190528_AR05.csv\n",
      "\n",
      "    CREATE TABLE IF NOT EXISTS GSM4768020_CT02_20190528_AR05 (\n",
      "        gene VARCHAR(30) PRIMARY KEY, \n",
      "      \"20190528_CLK856_DD_CT02_AR05_ACAGAC\" INTEGER,\n",
      "  \"20190528_CLK856_DD_CT02_AR05_ACAGGA\" INTEGER,\n",
      "  \"20190528_CLK856_DD_CT02_AR05_ACAGTG\" INTEGER,\n",
      "  \"20190528_CLK856_DD_CT02_AR05_ACCAAC\" INTEGER,\n",
      "  \"20190528_CLK856_DD_CT02_AR05_ACCAGA\" INTEGER,\n",
      "  \"20190528_CLK856_DD_CT02_AR05_ACCATG\" INTEGER,\n",
      "  \"20190528_CLK856_DD_CT02_AR05_ACGTAC\" INTEGER,\n",
      "  \"20190528_CLK856_DD_CT02_AR05_ACGTGA\" INTEGER,\n",
      "  \"20190528_CLK856_DD_CT02_AR05_ACGTTG\" INTEGER,\n",
      "  \"20190528_CLK856_DD_CT02_AR05_ACTCAC\" INTEGER,\n",
      "  \"20190528_CLK856_DD_CT02_AR05_ACTCGA\" INTEGER,\n",
      "  \"20190528_CLK856_DD_CT02_AR05_ACTCTG\" INTEGER,\n",
      "  \"20190528_CLK856_DD_CT02_AR05_AGACAG\" INTEGER,\n",
      "  \"20190528_CLK856_DD_CT02_AR05_AGACCA\" INTEGER,\n",
      "  \"20190528_CLK856_DD_CT02_AR05_AGACTC\" INTEGER,\n",
      "  \"20190528_CLK856_DD_CT02_AR05_AGCTAG\" INTEGER,\n",
      "  \"20190528_CLK856_DD_CT02_AR05_AGCTCA\" INTEGER,\n",
      "  \"20190528_CLK856_DD_CT02_AR05_AGCTTC\" INTEGER,\n",
      "  \"20190528_CLK856_DD_CT02_AR05_AGGAAG\" INTEGER,\n",
      "  \"20190528_CLK856_DD_CT02_AR05_AGGACA\" INTEGER,\n",
      "  \"20190528_CLK856_DD_CT02_AR05_AGGATC\" INTEGER,\n",
      "  \"20190528_CLK856_DD_CT02_AR05_AGTGAG\" INTEGER,\n",
      "  \"20190528_CLK856_DD_CT02_AR05_AGTGCA\" INTEGER,\n",
      "  \"20190528_CLK856_DD_CT02_AR05_AGTGTC\" INTEGER,\n",
      "  \"20190528_CLK856_DD_CT02_AR05_CAACAG\" INTEGER,\n",
      "  \"20190528_CLK856_DD_CT02_AR05_CAACCA\" INTEGER,\n",
      "  \"20190528_CLK856_DD_CT02_AR05_CAACTC\" INTEGER,\n",
      "  \"20190528_CLK856_DD_CT02_AR05_CACTAG\" INTEGER,\n",
      "  \"20190528_CLK856_DD_CT02_AR05_CACTCA\" INTEGER,\n",
      "  \"20190528_CLK856_DD_CT02_AR05_CACTTC\" INTEGER,\n",
      "  \"20190528_CLK856_DD_CT02_AR05_CAGAAG\" INTEGER,\n",
      "  \"20190528_CLK856_DD_CT02_AR05_CAGACA\" INTEGER,\n",
      "  \"20190528_CLK856_DD_CT02_AR05_CAGATC\" INTEGER,\n",
      "  \"20190528_CLK856_DD_CT02_AR05_CATGAG\" INTEGER,\n",
      "  \"20190528_CLK856_DD_CT02_AR05_CATGCA\" INTEGER,\n",
      "  \"20190528_CLK856_DD_CT02_AR05_CATGTC\" INTEGER,\n",
      "  \"20190528_CLK856_DD_CT02_AR05_CTAGAC\" INTEGER,\n",
      "  \"20190528_CLK856_DD_CT02_AR05_CTAGGA\" INTEGER,\n",
      "  \"20190528_CLK856_DD_CT02_AR05_CTAGTG\" INTEGER,\n",
      "  \"20190528_CLK856_DD_CT02_AR05_CTCAAC\" INTEGER,\n",
      "  \"20190528_CLK856_DD_CT02_AR05_CTCAGA\" INTEGER,\n",
      "  \"20190528_CLK856_DD_CT02_AR05_CTCATG\" INTEGER,\n",
      "  \"20190528_CLK856_DD_CT02_AR05_CTGTAC\" INTEGER,\n",
      "  \"20190528_CLK856_DD_CT02_AR05_CTGTGA\" INTEGER,\n",
      "  \"20190528_CLK856_DD_CT02_AR05_CTGTTG\" INTEGER,\n",
      "  \"20190528_CLK856_DD_CT02_AR05_CTTCAC\" INTEGER,\n",
      "  \"20190528_CLK856_DD_CT02_AR05_CTTCGA\" INTEGER,\n",
      "  \"20190528_CLK856_DD_CT02_AR05_CTTCTG\" INTEGER,\n",
      "  \"20190528_CLK856_DD_CT02_AR05_GAAGAC\" INTEGER,\n",
      "  \"20190528_CLK856_DD_CT02_AR05_GAAGGA\" INTEGER,\n",
      "  \"20190528_CLK856_DD_CT02_AR05_GAAGTG\" INTEGER,\n",
      "  \"20190528_CLK856_DD_CT02_AR05_GACAAC\" INTEGER,\n",
      "  \"20190528_CLK856_DD_CT02_AR05_GACAGA\" INTEGER,\n",
      "  \"20190528_CLK856_DD_CT02_AR05_GACATG\" INTEGER,\n",
      "  \"20190528_CLK856_DD_CT02_AR05_GAGTAC\" INTEGER,\n",
      "  \"20190528_CLK856_DD_CT02_AR05_GAGTGA\" INTEGER,\n",
      "  \"20190528_CLK856_DD_CT02_AR05_GAGTTG\" INTEGER,\n",
      "  \"20190528_CLK856_DD_CT02_AR05_GATCAC\" INTEGER,\n",
      "  \"20190528_CLK856_DD_CT02_AR05_GATCGA\" INTEGER,\n",
      "  \"20190528_CLK856_DD_CT02_AR05_GATCTG\" INTEGER,\n",
      "  \"20190528_CLK856_DD_CT02_AR05_GTACAG\" INTEGER,\n",
      "  \"20190528_CLK856_DD_CT02_AR05_GTACCA\" INTEGER,\n",
      "  \"20190528_CLK856_DD_CT02_AR05_GTACTC\" INTEGER,\n",
      "  \"20190528_CLK856_DD_CT02_AR05_GTCTAG\" INTEGER,\n",
      "  \"20190528_CLK856_DD_CT02_AR05_GTCTCA\" INTEGER,\n",
      "  \"20190528_CLK856_DD_CT02_AR05_GTCTTC\" INTEGER,\n",
      "  \"20190528_CLK856_DD_CT02_AR05_GTGAAG\" INTEGER,\n",
      "  \"20190528_CLK856_DD_CT02_AR05_GTGACA\" INTEGER,\n",
      "  \"20190528_CLK856_DD_CT02_AR05_GTGATC\" INTEGER,\n",
      "  \"20190528_CLK856_DD_CT02_AR05_GTTGAG\" INTEGER,\n",
      "  \"20190528_CLK856_DD_CT02_AR05_GTTGCA\" INTEGER,\n",
      "  \"20190528_CLK856_DD_CT02_AR05_GTTGTC\" INTEGER,\n",
      "  \"20190528_CLK856_DD_CT02_AR05_TCACAG\" INTEGER,\n",
      "  \"20190528_CLK856_DD_CT02_AR05_TCACCA\" INTEGER,\n",
      "  \"20190528_CLK856_DD_CT02_AR05_TCACTC\" INTEGER,\n",
      "  \"20190528_CLK856_DD_CT02_AR05_TCCTAG\" INTEGER,\n",
      "  \"20190528_CLK856_DD_CT02_AR05_TCCTCA\" INTEGER,\n",
      "  \"20190528_CLK856_DD_CT02_AR05_TCCTTC\" INTEGER,\n",
      "  \"20190528_CLK856_DD_CT02_AR05_TCGAAG\" INTEGER,\n",
      "  \"20190528_CLK856_DD_CT02_AR05_TCGACA\" INTEGER,\n",
      "  \"20190528_CLK856_DD_CT02_AR05_TCGATC\" INTEGER,\n",
      "  \"20190528_CLK856_DD_CT02_AR05_TCTGAG\" INTEGER,\n",
      "  \"20190528_CLK856_DD_CT02_AR05_TCTGCA\" INTEGER,\n",
      "  \"20190528_CLK856_DD_CT02_AR05_TCTGTC\" INTEGER,\n",
      "  \"20190528_CLK856_DD_CT02_AR05_TGAGAC\" INTEGER,\n",
      "  \"20190528_CLK856_DD_CT02_AR05_TGAGGA\" INTEGER,\n",
      "  \"20190528_CLK856_DD_CT02_AR05_TGAGTG\" INTEGER,\n",
      "  \"20190528_CLK856_DD_CT02_AR05_TGCAAC\" INTEGER,\n",
      "  \"20190528_CLK856_DD_CT02_AR05_TGCAGA\" INTEGER,\n",
      "  \"20190528_CLK856_DD_CT02_AR05_TGCATG\" INTEGER,\n",
      "  \"20190528_CLK856_DD_CT02_AR05_TGGTAC\" INTEGER,\n",
      "  \"20190528_CLK856_DD_CT02_AR05_TGGTGA\" INTEGER,\n",
      "  \"20190528_CLK856_DD_CT02_AR05_TGGTTG\" INTEGER,\n",
      "  \"20190528_CLK856_DD_CT02_AR05_TGTCAC\" INTEGER,\n",
      "  \"20190528_CLK856_DD_CT02_AR05_TGTCGA\" INTEGER,\n",
      "  \"20190528_CLK856_DD_CT02_AR05_TGTCTG\" INTEGER\n",
      ");\n",
      "    \n"
     ]
    }
   ],
   "execution_count": 15
  },
  {
   "metadata": {
    "ExecuteTime": {
     "end_time": "2024-08-19T23:11:34.122248Z",
     "start_time": "2024-08-19T23:11:28.917494Z"
    }
   },
   "cell_type": "code",
   "source": "pd.read_sql('SHOW TABLES', con=engine)",
   "id": "f1c06514197a81d4",
   "outputs": [
    {
     "data": {
      "text/plain": [
       "  Tables_in_defaultdb\n",
       "0         annotations"
      ],
      "text/html": [
       "<div>\n",
       "<style scoped>\n",
       "    .dataframe tbody tr th:only-of-type {\n",
       "        vertical-align: middle;\n",
       "    }\n",
       "\n",
       "    .dataframe tbody tr th {\n",
       "        vertical-align: top;\n",
       "    }\n",
       "\n",
       "    .dataframe thead th {\n",
       "        text-align: right;\n",
       "    }\n",
       "</style>\n",
       "<table border=\"1\" class=\"dataframe\">\n",
       "  <thead>\n",
       "    <tr style=\"text-align: right;\">\n",
       "      <th></th>\n",
       "      <th>Tables_in_defaultdb</th>\n",
       "    </tr>\n",
       "  </thead>\n",
       "  <tbody>\n",
       "    <tr>\n",
       "      <th>0</th>\n",
       "      <td>annotations</td>\n",
       "    </tr>\n",
       "  </tbody>\n",
       "</table>\n",
       "</div>"
      ]
     },
     "execution_count": 5,
     "metadata": {},
     "output_type": "execute_result"
    }
   ],
   "execution_count": 5
  }
 ],
 "metadata": {
  "kernelspec": {
   "display_name": "Python 3",
   "language": "python",
   "name": "python3"
  },
  "language_info": {
   "codemirror_mode": {
    "name": "ipython",
    "version": 2
   },
   "file_extension": ".py",
   "mimetype": "text/x-python",
   "name": "python",
   "nbconvert_exporter": "python",
   "pygments_lexer": "ipython2",
   "version": "2.7.6"
  }
 },
 "nbformat": 4,
 "nbformat_minor": 5
}
