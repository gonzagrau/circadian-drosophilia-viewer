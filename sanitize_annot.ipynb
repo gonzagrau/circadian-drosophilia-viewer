{
 "cells": [
  {
   "cell_type": "code",
   "execution_count": 1,
   "metadata": {
    "collapsed": true,
    "ExecuteTime": {
     "end_time": "2024-07-24T14:43:45.336312200Z",
     "start_time": "2024-07-24T14:43:45.310185Z"
    }
   },
   "outputs": [],
   "source": [
    "import pandas as pd\n",
    "import re"
   ]
  },
  {
   "cell_type": "code",
   "execution_count": 2,
   "outputs": [
    {
     "data": {
      "text/plain": "                                    experiment  time Repeats       Idents\n20181215_CLK856_LD_zt14_AR07_ACAGGA  CLK856_LD  zt14    LD_2       29:LPN\n20181215_CLK856_LD_zt14_AR07_CTTCTG  CLK856_LD  zt14    LD_2       29:LPN\n20181231_CLK856_LD_zt14_AR02_GTACCA  CLK856_LD  zt14    LD_1       29:LPN\n20181231_CLK856_LD_zt14_AR02_TCCTTC  CLK856_LD  zt14    LD_1       29:LPN\n20181231_CLK856_LD_zt14_AR08_AGACAG  CLK856_LD  zt14    LD_1       29:LPN\n...                                        ...   ...     ...          ...\n20190710_CLK856_DD_zt06_AR04_GTCTTC  CLK856_DD  zt06    DD_1  1:DN1p_CNMa\n20190710_CLK856_DD_zt06_AR04_TCCTTC  CLK856_DD  zt06    DD_1  1:DN1p_CNMa\n20190719_CLK856_DD_zt06_AR18_GTCTTC  CLK856_DD  zt06    DD_2  1:DN1p_CNMa\n20190814_CLK856_DD_zt06_AR19_TCTGCA  CLK856_DD  zt06    DD_2  1:DN1p_CNMa\n20190814_CLK856_DD_zt06_AR20_CACTTC  CLK856_DD  zt06    DD_2  1:DN1p_CNMa\n\n[2615 rows x 4 columns]",
      "text/html": "<div>\n<style scoped>\n    .dataframe tbody tr th:only-of-type {\n        vertical-align: middle;\n    }\n\n    .dataframe tbody tr th {\n        vertical-align: top;\n    }\n\n    .dataframe thead th {\n        text-align: right;\n    }\n</style>\n<table border=\"1\" class=\"dataframe\">\n  <thead>\n    <tr style=\"text-align: right;\">\n      <th></th>\n      <th>experiment</th>\n      <th>time</th>\n      <th>Repeats</th>\n      <th>Idents</th>\n    </tr>\n  </thead>\n  <tbody>\n    <tr>\n      <th>20181215_CLK856_LD_zt14_AR07_ACAGGA</th>\n      <td>CLK856_LD</td>\n      <td>zt14</td>\n      <td>LD_2</td>\n      <td>29:LPN</td>\n    </tr>\n    <tr>\n      <th>20181215_CLK856_LD_zt14_AR07_CTTCTG</th>\n      <td>CLK856_LD</td>\n      <td>zt14</td>\n      <td>LD_2</td>\n      <td>29:LPN</td>\n    </tr>\n    <tr>\n      <th>20181231_CLK856_LD_zt14_AR02_GTACCA</th>\n      <td>CLK856_LD</td>\n      <td>zt14</td>\n      <td>LD_1</td>\n      <td>29:LPN</td>\n    </tr>\n    <tr>\n      <th>20181231_CLK856_LD_zt14_AR02_TCCTTC</th>\n      <td>CLK856_LD</td>\n      <td>zt14</td>\n      <td>LD_1</td>\n      <td>29:LPN</td>\n    </tr>\n    <tr>\n      <th>20181231_CLK856_LD_zt14_AR08_AGACAG</th>\n      <td>CLK856_LD</td>\n      <td>zt14</td>\n      <td>LD_1</td>\n      <td>29:LPN</td>\n    </tr>\n    <tr>\n      <th>...</th>\n      <td>...</td>\n      <td>...</td>\n      <td>...</td>\n      <td>...</td>\n    </tr>\n    <tr>\n      <th>20190710_CLK856_DD_zt06_AR04_GTCTTC</th>\n      <td>CLK856_DD</td>\n      <td>zt06</td>\n      <td>DD_1</td>\n      <td>1:DN1p_CNMa</td>\n    </tr>\n    <tr>\n      <th>20190710_CLK856_DD_zt06_AR04_TCCTTC</th>\n      <td>CLK856_DD</td>\n      <td>zt06</td>\n      <td>DD_1</td>\n      <td>1:DN1p_CNMa</td>\n    </tr>\n    <tr>\n      <th>20190719_CLK856_DD_zt06_AR18_GTCTTC</th>\n      <td>CLK856_DD</td>\n      <td>zt06</td>\n      <td>DD_2</td>\n      <td>1:DN1p_CNMa</td>\n    </tr>\n    <tr>\n      <th>20190814_CLK856_DD_zt06_AR19_TCTGCA</th>\n      <td>CLK856_DD</td>\n      <td>zt06</td>\n      <td>DD_2</td>\n      <td>1:DN1p_CNMa</td>\n    </tr>\n    <tr>\n      <th>20190814_CLK856_DD_zt06_AR20_CACTTC</th>\n      <td>CLK856_DD</td>\n      <td>zt06</td>\n      <td>DD_2</td>\n      <td>1:DN1p_CNMa</td>\n    </tr>\n  </tbody>\n</table>\n<p>2615 rows × 4 columns</p>\n</div>"
     },
     "execution_count": 2,
     "metadata": {},
     "output_type": "execute_result"
    }
   ],
   "source": [
    "ANNOT_PATH = r'../clock_neurons_annotation.csv'\n",
    "annot_df = pd.read_csv(ANNOT_PATH, index_col=0)\n",
    "annot_df"
   ],
   "metadata": {
    "collapsed": false,
    "ExecuteTime": {
     "end_time": "2024-07-24T14:53:23.318005600Z",
     "start_time": "2024-07-24T14:53:23.222884300Z"
    }
   }
  },
  {
   "cell_type": "code",
   "execution_count": 5,
   "outputs": [
    {
     "name": "stdout",
     "output_type": "stream",
     "text": [
      "20181231_CLK856_LD_zt14_AR08_AGACAG ==> 20181231_CLK856_LD_ZT14_AR08_AGACAG\n",
      "20190001_CLK856_DD_zt14_AR01_CTTCTG ==> 20190001_CLK856_DD_CT14_AR01_CTTCTG\n"
     ]
    }
   ],
   "source": [
    "def get_exp(neuron: str) -> str:\n",
    "    \"\"\"\n",
    "    Get experiment (DD || LD) applied to the neuron\n",
    "    :param neuron:\n",
    "    :return: string 'DD' or 'LD'\n",
    "    \"\"\"\n",
    "    exp_re = re.compile(r\"(_)(DD|LD)(_)\")\n",
    "    match = exp_re.search(neuron)\n",
    "    if not match:\n",
    "        raise ValueError(f'Experiment not found in {neuron}')\n",
    "    return match.group(2)\n",
    "\n",
    "\n",
    "def change_idx(neuron: str) -> str:\n",
    "    \"\"\"\n",
    "    Updates index column to match dataset notation\n",
    "    :param neuron:\n",
    "    :return: modified string\n",
    "    \"\"\"\n",
    "    time_pattern = r'(zt)(\\d\\d)'\n",
    "    match = re.search(time_pattern, neuron)\n",
    "    if not match:\n",
    "        raise ValueError(f\"Time slot not found in {neuron}\")\n",
    "    exp = get_exp(neuron)\n",
    "    new_time_str = 'CT' if exp == 'DD' else 'ZT'\n",
    "    new_idx = re.sub(time_pattern, rf\"{new_time_str}{match.group(2)}\", neuron)\n",
    "    return new_idx\n",
    "\n",
    "test_zt = \"20181231_CLK856_LD_zt14_AR08_AGACAG\"\n",
    "test_ct = \"20190001_CLK856_DD_zt14_AR01_CTTCTG\"\n",
    "print(f\"{test_zt} ==> {change_idx(test_zt)}\")\n",
    "print(f\"{test_ct} ==> {change_idx(test_ct)}\")"
   ],
   "metadata": {
    "collapsed": false,
    "ExecuteTime": {
     "end_time": "2024-07-24T15:00:34.161645800Z",
     "start_time": "2024-07-24T15:00:34.146025200Z"
    }
   }
  },
  {
   "cell_type": "code",
   "execution_count": 6,
   "outputs": [
    {
     "data": {
      "text/plain": "                                    experiment  time Repeats       Idents\n20181215_CLK856_LD_ZT14_AR07_ACAGGA  CLK856_LD  zt14    LD_2       29:LPN\n20181215_CLK856_LD_ZT14_AR07_CTTCTG  CLK856_LD  zt14    LD_2       29:LPN\n20181231_CLK856_LD_ZT14_AR02_GTACCA  CLK856_LD  zt14    LD_1       29:LPN\n20181231_CLK856_LD_ZT14_AR02_TCCTTC  CLK856_LD  zt14    LD_1       29:LPN\n20181231_CLK856_LD_ZT14_AR08_AGACAG  CLK856_LD  zt14    LD_1       29:LPN\n...                                        ...   ...     ...          ...\n20190710_CLK856_DD_CT06_AR04_GTCTTC  CLK856_DD  zt06    DD_1  1:DN1p_CNMa\n20190710_CLK856_DD_CT06_AR04_TCCTTC  CLK856_DD  zt06    DD_1  1:DN1p_CNMa\n20190719_CLK856_DD_CT06_AR18_GTCTTC  CLK856_DD  zt06    DD_2  1:DN1p_CNMa\n20190814_CLK856_DD_CT06_AR19_TCTGCA  CLK856_DD  zt06    DD_2  1:DN1p_CNMa\n20190814_CLK856_DD_CT06_AR20_CACTTC  CLK856_DD  zt06    DD_2  1:DN1p_CNMa\n\n[2615 rows x 4 columns]",
      "text/html": "<div>\n<style scoped>\n    .dataframe tbody tr th:only-of-type {\n        vertical-align: middle;\n    }\n\n    .dataframe tbody tr th {\n        vertical-align: top;\n    }\n\n    .dataframe thead th {\n        text-align: right;\n    }\n</style>\n<table border=\"1\" class=\"dataframe\">\n  <thead>\n    <tr style=\"text-align: right;\">\n      <th></th>\n      <th>experiment</th>\n      <th>time</th>\n      <th>Repeats</th>\n      <th>Idents</th>\n    </tr>\n  </thead>\n  <tbody>\n    <tr>\n      <th>20181215_CLK856_LD_ZT14_AR07_ACAGGA</th>\n      <td>CLK856_LD</td>\n      <td>zt14</td>\n      <td>LD_2</td>\n      <td>29:LPN</td>\n    </tr>\n    <tr>\n      <th>20181215_CLK856_LD_ZT14_AR07_CTTCTG</th>\n      <td>CLK856_LD</td>\n      <td>zt14</td>\n      <td>LD_2</td>\n      <td>29:LPN</td>\n    </tr>\n    <tr>\n      <th>20181231_CLK856_LD_ZT14_AR02_GTACCA</th>\n      <td>CLK856_LD</td>\n      <td>zt14</td>\n      <td>LD_1</td>\n      <td>29:LPN</td>\n    </tr>\n    <tr>\n      <th>20181231_CLK856_LD_ZT14_AR02_TCCTTC</th>\n      <td>CLK856_LD</td>\n      <td>zt14</td>\n      <td>LD_1</td>\n      <td>29:LPN</td>\n    </tr>\n    <tr>\n      <th>20181231_CLK856_LD_ZT14_AR08_AGACAG</th>\n      <td>CLK856_LD</td>\n      <td>zt14</td>\n      <td>LD_1</td>\n      <td>29:LPN</td>\n    </tr>\n    <tr>\n      <th>...</th>\n      <td>...</td>\n      <td>...</td>\n      <td>...</td>\n      <td>...</td>\n    </tr>\n    <tr>\n      <th>20190710_CLK856_DD_CT06_AR04_GTCTTC</th>\n      <td>CLK856_DD</td>\n      <td>zt06</td>\n      <td>DD_1</td>\n      <td>1:DN1p_CNMa</td>\n    </tr>\n    <tr>\n      <th>20190710_CLK856_DD_CT06_AR04_TCCTTC</th>\n      <td>CLK856_DD</td>\n      <td>zt06</td>\n      <td>DD_1</td>\n      <td>1:DN1p_CNMa</td>\n    </tr>\n    <tr>\n      <th>20190719_CLK856_DD_CT06_AR18_GTCTTC</th>\n      <td>CLK856_DD</td>\n      <td>zt06</td>\n      <td>DD_2</td>\n      <td>1:DN1p_CNMa</td>\n    </tr>\n    <tr>\n      <th>20190814_CLK856_DD_CT06_AR19_TCTGCA</th>\n      <td>CLK856_DD</td>\n      <td>zt06</td>\n      <td>DD_2</td>\n      <td>1:DN1p_CNMa</td>\n    </tr>\n    <tr>\n      <th>20190814_CLK856_DD_CT06_AR20_CACTTC</th>\n      <td>CLK856_DD</td>\n      <td>zt06</td>\n      <td>DD_2</td>\n      <td>1:DN1p_CNMa</td>\n    </tr>\n  </tbody>\n</table>\n<p>2615 rows × 4 columns</p>\n</div>"
     },
     "execution_count": 6,
     "metadata": {},
     "output_type": "execute_result"
    }
   ],
   "source": [
    "new_annot_df = annot_df.rename(mapper=change_idx, axis='index')\n",
    "new_annot_df"
   ],
   "metadata": {
    "collapsed": false,
    "ExecuteTime": {
     "end_time": "2024-07-24T15:04:35.022372700Z",
     "start_time": "2024-07-24T15:04:34.991138100Z"
    }
   }
  },
  {
   "cell_type": "markdown",
   "source": [
    "Now, save to a new csv (with a slighly different name, to avoid confusion)"
   ],
   "metadata": {
    "collapsed": false
   }
  },
  {
   "cell_type": "code",
   "execution_count": 9,
   "outputs": [],
   "source": [
    "new_annot_df.to_csv('clock_neuron_clusters.csv')"
   ],
   "metadata": {
    "collapsed": false,
    "ExecuteTime": {
     "end_time": "2024-07-24T15:06:55.804929700Z",
     "start_time": "2024-07-24T15:06:55.773686200Z"
    }
   }
  },
  {
   "cell_type": "code",
   "execution_count": null,
   "outputs": [],
   "source": [],
   "metadata": {
    "collapsed": false
   }
  }
 ],
 "metadata": {
  "kernelspec": {
   "display_name": "Python 3",
   "language": "python",
   "name": "python3"
  },
  "language_info": {
   "codemirror_mode": {
    "name": "ipython",
    "version": 2
   },
   "file_extension": ".py",
   "mimetype": "text/x-python",
   "name": "python",
   "nbconvert_exporter": "python",
   "pygments_lexer": "ipython2",
   "version": "2.7.6"
  }
 },
 "nbformat": 4,
 "nbformat_minor": 0
}
