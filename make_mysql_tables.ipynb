{
 "cells": [
  {
   "cell_type": "markdown",
   "metadata": {},
   "source": [
    "# Export csv to aiven database"
   ]
  },
  {
   "cell_type": "code",
   "metadata": {
    "ExecuteTime": {
     "end_time": "2024-08-16T17:25:36.911200Z",
     "start_time": "2024-08-16T17:25:36.904682Z"
    }
   },
   "source": [
    "from dotenv import load_dotenv\n",
    "from sqlalchemy import create_engine, text\n",
    "import os\n",
    "import pandas as pd"
   ],
   "outputs": [],
   "execution_count": 39
  },
  {
   "cell_type": "code",
   "metadata": {
    "ExecuteTime": {
     "end_time": "2024-08-16T16:33:30.871155Z",
     "start_time": "2024-08-16T16:33:30.756732Z"
    }
   },
   "source": [
    "load_dotenv()\n",
    "db_host = os.getenv('DB_HOST')\n",
    "db_user = os.getenv('DB_USER')\n",
    "db_password = os.getenv('DB_PASS')\n",
    "db_port = 10184\n",
    "database = \"defaultdb\"\n",
    "host_url = rf\"mysql://{db_user}:{db_password}@{db_host}:{db_port}/{database}\"\n",
    "\n",
    "engine = create_engine(host_url)"
   ],
   "outputs": [],
   "execution_count": 2
  },
  {
   "cell_type": "markdown",
   "metadata": {},
   "source": [
    "Now, read csv to pandas dataframe"
   ]
  },
  {
   "cell_type": "code",
   "execution_count": 9,
   "metadata": {},
   "outputs": [
    {
     "data": {
      "text/html": [
       "<div>\n",
       "<style scoped>\n",
       "    .dataframe tbody tr th:only-of-type {\n",
       "        vertical-align: middle;\n",
       "    }\n",
       "\n",
       "    .dataframe tbody tr th {\n",
       "        vertical-align: top;\n",
       "    }\n",
       "\n",
       "    .dataframe thead th {\n",
       "        text-align: right;\n",
       "    }\n",
       "</style>\n",
       "<table border=\"1\" class=\"dataframe\">\n",
       "  <thead>\n",
       "    <tr style=\"text-align: right;\">\n",
       "      <th></th>\n",
       "      <th>experiment</th>\n",
       "      <th>Repeats</th>\n",
       "      <th>condition</th>\n",
       "      <th>date</th>\n",
       "      <th>time</th>\n",
       "      <th>Idents</th>\n",
       "    </tr>\n",
       "  </thead>\n",
       "  <tbody>\n",
       "    <tr>\n",
       "      <th>20181215_CLK856_LD_ZT14_AR07_ACAGGA</th>\n",
       "      <td>CLK856_LD</td>\n",
       "      <td>LD_2</td>\n",
       "      <td>LD</td>\n",
       "      <td>2018-12-15</td>\n",
       "      <td>ZT14</td>\n",
       "      <td>29:LPN</td>\n",
       "    </tr>\n",
       "    <tr>\n",
       "      <th>20181215_CLK856_LD_ZT14_AR07_CTTCTG</th>\n",
       "      <td>CLK856_LD</td>\n",
       "      <td>LD_2</td>\n",
       "      <td>LD</td>\n",
       "      <td>2018-12-15</td>\n",
       "      <td>ZT14</td>\n",
       "      <td>29:LPN</td>\n",
       "    </tr>\n",
       "    <tr>\n",
       "      <th>20181231_CLK856_LD_ZT14_AR02_GTACCA</th>\n",
       "      <td>CLK856_LD</td>\n",
       "      <td>LD_1</td>\n",
       "      <td>LD</td>\n",
       "      <td>2018-12-31</td>\n",
       "      <td>ZT14</td>\n",
       "      <td>29:LPN</td>\n",
       "    </tr>\n",
       "    <tr>\n",
       "      <th>20181231_CLK856_LD_ZT14_AR02_TCCTTC</th>\n",
       "      <td>CLK856_LD</td>\n",
       "      <td>LD_1</td>\n",
       "      <td>LD</td>\n",
       "      <td>2018-12-31</td>\n",
       "      <td>ZT14</td>\n",
       "      <td>29:LPN</td>\n",
       "    </tr>\n",
       "    <tr>\n",
       "      <th>20181231_CLK856_LD_ZT14_AR08_AGACAG</th>\n",
       "      <td>CLK856_LD</td>\n",
       "      <td>LD_1</td>\n",
       "      <td>LD</td>\n",
       "      <td>2018-12-31</td>\n",
       "      <td>ZT14</td>\n",
       "      <td>29:LPN</td>\n",
       "    </tr>\n",
       "    <tr>\n",
       "      <th>...</th>\n",
       "      <td>...</td>\n",
       "      <td>...</td>\n",
       "      <td>...</td>\n",
       "      <td>...</td>\n",
       "      <td>...</td>\n",
       "      <td>...</td>\n",
       "    </tr>\n",
       "    <tr>\n",
       "      <th>20190710_CLK856_DD_CT06_AR04_GTCTTC</th>\n",
       "      <td>CLK856_DD</td>\n",
       "      <td>DD_1</td>\n",
       "      <td>DD</td>\n",
       "      <td>2019-07-10</td>\n",
       "      <td>CT06</td>\n",
       "      <td>1:DN1p_CNMa</td>\n",
       "    </tr>\n",
       "    <tr>\n",
       "      <th>20190710_CLK856_DD_CT06_AR04_TCCTTC</th>\n",
       "      <td>CLK856_DD</td>\n",
       "      <td>DD_1</td>\n",
       "      <td>DD</td>\n",
       "      <td>2019-07-10</td>\n",
       "      <td>CT06</td>\n",
       "      <td>1:DN1p_CNMa</td>\n",
       "    </tr>\n",
       "    <tr>\n",
       "      <th>20190719_CLK856_DD_CT06_AR18_GTCTTC</th>\n",
       "      <td>CLK856_DD</td>\n",
       "      <td>DD_2</td>\n",
       "      <td>DD</td>\n",
       "      <td>2019-07-19</td>\n",
       "      <td>CT06</td>\n",
       "      <td>1:DN1p_CNMa</td>\n",
       "    </tr>\n",
       "    <tr>\n",
       "      <th>20190814_CLK856_DD_CT06_AR19_TCTGCA</th>\n",
       "      <td>CLK856_DD</td>\n",
       "      <td>DD_2</td>\n",
       "      <td>DD</td>\n",
       "      <td>2019-08-14</td>\n",
       "      <td>CT06</td>\n",
       "      <td>1:DN1p_CNMa</td>\n",
       "    </tr>\n",
       "    <tr>\n",
       "      <th>20190814_CLK856_DD_CT06_AR20_CACTTC</th>\n",
       "      <td>CLK856_DD</td>\n",
       "      <td>DD_2</td>\n",
       "      <td>DD</td>\n",
       "      <td>2019-08-14</td>\n",
       "      <td>CT06</td>\n",
       "      <td>1:DN1p_CNMa</td>\n",
       "    </tr>\n",
       "  </tbody>\n",
       "</table>\n",
       "<p>2615 rows × 6 columns</p>\n",
       "</div>"
      ],
      "text/plain": [
       "                                    experiment Repeats condition        date  \\\n",
       "20181215_CLK856_LD_ZT14_AR07_ACAGGA  CLK856_LD    LD_2        LD  2018-12-15   \n",
       "20181215_CLK856_LD_ZT14_AR07_CTTCTG  CLK856_LD    LD_2        LD  2018-12-15   \n",
       "20181231_CLK856_LD_ZT14_AR02_GTACCA  CLK856_LD    LD_1        LD  2018-12-31   \n",
       "20181231_CLK856_LD_ZT14_AR02_TCCTTC  CLK856_LD    LD_1        LD  2018-12-31   \n",
       "20181231_CLK856_LD_ZT14_AR08_AGACAG  CLK856_LD    LD_1        LD  2018-12-31   \n",
       "...                                        ...     ...       ...         ...   \n",
       "20190710_CLK856_DD_CT06_AR04_GTCTTC  CLK856_DD    DD_1        DD  2019-07-10   \n",
       "20190710_CLK856_DD_CT06_AR04_TCCTTC  CLK856_DD    DD_1        DD  2019-07-10   \n",
       "20190719_CLK856_DD_CT06_AR18_GTCTTC  CLK856_DD    DD_2        DD  2019-07-19   \n",
       "20190814_CLK856_DD_CT06_AR19_TCTGCA  CLK856_DD    DD_2        DD  2019-08-14   \n",
       "20190814_CLK856_DD_CT06_AR20_CACTTC  CLK856_DD    DD_2        DD  2019-08-14   \n",
       "\n",
       "                                     time       Idents  \n",
       "20181215_CLK856_LD_ZT14_AR07_ACAGGA  ZT14       29:LPN  \n",
       "20181215_CLK856_LD_ZT14_AR07_CTTCTG  ZT14       29:LPN  \n",
       "20181231_CLK856_LD_ZT14_AR02_GTACCA  ZT14       29:LPN  \n",
       "20181231_CLK856_LD_ZT14_AR02_TCCTTC  ZT14       29:LPN  \n",
       "20181231_CLK856_LD_ZT14_AR08_AGACAG  ZT14       29:LPN  \n",
       "...                                   ...          ...  \n",
       "20190710_CLK856_DD_CT06_AR04_GTCTTC  CT06  1:DN1p_CNMa  \n",
       "20190710_CLK856_DD_CT06_AR04_TCCTTC  CT06  1:DN1p_CNMa  \n",
       "20190719_CLK856_DD_CT06_AR18_GTCTTC  CT06  1:DN1p_CNMa  \n",
       "20190814_CLK856_DD_CT06_AR19_TCTGCA  CT06  1:DN1p_CNMa  \n",
       "20190814_CLK856_DD_CT06_AR20_CACTTC  CT06  1:DN1p_CNMa  \n",
       "\n",
       "[2615 rows x 6 columns]"
      ]
     },
     "execution_count": 9,
     "metadata": {},
     "output_type": "execute_result"
    }
   ],
   "source": [
    "annot_df = pd.read_csv('neuron_annotations.csv', index_col=0)\n",
    "annot_df"
   ]
  },
  {
   "cell_type": "markdown",
   "metadata": {},
   "source": [
    "First, create table"
   ]
  },
  {
   "cell_type": "code",
   "execution_count": 20,
   "metadata": {},
   "outputs": [
    {
     "name": "stdout",
     "output_type": "stream",
     "text": [
      "CREATE TABLE \"annotations\" (\n",
      "        \"single_cell\" VARCHAR(255) PRIMARY KEY,\n",
      "        \"experiment\" VARCHAR(255),\n",
      "        \"Repeats\" VARCHAR(255),\n",
      "        \"condition\" VARCHAR(255),\n",
      "        \"date\" DATE,\n",
      "        \"time\" VARCHAR(255),\n",
      "        \"Idents\" VARCHAR(255)\n",
      "        )\n"
     ]
    }
   ],
   "source": [
    "ddl = \"\"\"CREATE TABLE \"annotations\" (\n",
    "        \"single_cell\" VARCHAR(255) PRIMARY KEY,\n",
    "        \"experiment\" VARCHAR(255),\n",
    "        \"Repeats\" VARCHAR(255),\n",
    "        \"condition\" VARCHAR(255),\n",
    "        \"date\" DATE,\n",
    "        \"time\" VARCHAR(255),\n",
    "        \"Idents\" VARCHAR(255)\n",
    "        )\"\"\"  \n",
    "print(ddl)\n",
    "\n",
    "with engine.connect() as connection:\n",
    "    connection.execute(text(ddl))"
   ]
  },
  {
   "cell_type": "code",
   "execution_count": 21,
   "metadata": {},
   "outputs": [
    {
     "data": {
      "text/plain": [
       "2615"
      ]
     },
     "execution_count": 21,
     "metadata": {},
     "output_type": "execute_result"
    }
   ],
   "source": [
    "# annot_df.to_sql(name='annotations',\n",
    "#                 con=engine,\n",
    "#                 index=True,\n",
    "#                 if_exists='append',\n",
    "#                 index_label='single_cell')"
   ]
  },
  {
   "cell_type": "code",
   "metadata": {
    "ExecuteTime": {
     "end_time": "2024-08-16T16:33:44.021639Z",
     "start_time": "2024-08-16T16:33:37.240969Z"
    }
   },
   "source": [
    "df_result = pd.read_sql(\"SELECT * FROM annotations\", con=engine, index_col='single_cell')\n",
    "df_result"
   ],
   "outputs": [
    {
     "data": {
      "text/plain": [
       "                                    experiment Repeats condition        date  \\\n",
       "single_cell                                                                    \n",
       "20181215_CLK856_LD_ZT14_AR07_ACAGAC  CLK856_LD    LD_2        LD  2018-12-15   \n",
       "20181215_CLK856_LD_ZT14_AR07_ACAGGA  CLK856_LD    LD_2        LD  2018-12-15   \n",
       "20181215_CLK856_LD_ZT14_AR07_ACCAAC  CLK856_LD    LD_2        LD  2018-12-15   \n",
       "20181215_CLK856_LD_ZT14_AR07_ACCAGA  CLK856_LD    LD_2        LD  2018-12-15   \n",
       "20181215_CLK856_LD_ZT14_AR07_ACCATG  CLK856_LD    LD_2        LD  2018-12-15   \n",
       "...                                        ...     ...       ...         ...   \n",
       "20190814_CLK856_DD_CT06_AR20_TCACCA  CLK856_DD    DD_2        DD  2019-08-14   \n",
       "20190814_CLK856_DD_CT06_AR20_TCCTTC  CLK856_DD    DD_2        DD  2019-08-14   \n",
       "20190814_CLK856_DD_CT06_AR20_TGAGAC  CLK856_DD    DD_2        DD  2019-08-14   \n",
       "20190814_CLK856_DD_CT06_AR20_TGAGGA  CLK856_DD    DD_2        DD  2019-08-14   \n",
       "20190814_CLK856_DD_CT06_AR20_TGTCGA  CLK856_DD    DD_2        DD  2019-08-14   \n",
       "\n",
       "                                     time        Idents  \n",
       "single_cell                                              \n",
       "20181215_CLK856_LD_ZT14_AR07_ACAGAC  ZT14   1:DN1p_CNMa  \n",
       "20181215_CLK856_LD_ZT14_AR07_ACAGGA  ZT14        29:LPN  \n",
       "20181215_CLK856_LD_ZT14_AR07_ACCAAC  ZT14  15:DN1p_CNMa  \n",
       "20181215_CLK856_LD_ZT14_AR07_ACCAGA  ZT14      8:LN_ITP  \n",
       "20181215_CLK856_LD_ZT14_AR07_ACCATG  ZT14        3:DN1a  \n",
       "...                                   ...           ...  \n",
       "20190814_CLK856_DD_CT06_AR20_TCACCA  CT06        7:DN1p  \n",
       "20190814_CLK856_DD_CT06_AR20_TCCTTC  CT06     9:LNd_NPF  \n",
       "20190814_CLK856_DD_CT06_AR20_TGAGAC  CT06        3:DN1a  \n",
       "20190814_CLK856_DD_CT06_AR20_TGAGGA  CT06        14:DN3  \n",
       "20190814_CLK856_DD_CT06_AR20_TGTCGA  CT06      8:LN_ITP  \n",
       "\n",
       "[2615 rows x 6 columns]"
      ],
      "text/html": [
       "<div>\n",
       "<style scoped>\n",
       "    .dataframe tbody tr th:only-of-type {\n",
       "        vertical-align: middle;\n",
       "    }\n",
       "\n",
       "    .dataframe tbody tr th {\n",
       "        vertical-align: top;\n",
       "    }\n",
       "\n",
       "    .dataframe thead th {\n",
       "        text-align: right;\n",
       "    }\n",
       "</style>\n",
       "<table border=\"1\" class=\"dataframe\">\n",
       "  <thead>\n",
       "    <tr style=\"text-align: right;\">\n",
       "      <th></th>\n",
       "      <th>experiment</th>\n",
       "      <th>Repeats</th>\n",
       "      <th>condition</th>\n",
       "      <th>date</th>\n",
       "      <th>time</th>\n",
       "      <th>Idents</th>\n",
       "    </tr>\n",
       "    <tr>\n",
       "      <th>single_cell</th>\n",
       "      <th></th>\n",
       "      <th></th>\n",
       "      <th></th>\n",
       "      <th></th>\n",
       "      <th></th>\n",
       "      <th></th>\n",
       "    </tr>\n",
       "  </thead>\n",
       "  <tbody>\n",
       "    <tr>\n",
       "      <th>20181215_CLK856_LD_ZT14_AR07_ACAGAC</th>\n",
       "      <td>CLK856_LD</td>\n",
       "      <td>LD_2</td>\n",
       "      <td>LD</td>\n",
       "      <td>2018-12-15</td>\n",
       "      <td>ZT14</td>\n",
       "      <td>1:DN1p_CNMa</td>\n",
       "    </tr>\n",
       "    <tr>\n",
       "      <th>20181215_CLK856_LD_ZT14_AR07_ACAGGA</th>\n",
       "      <td>CLK856_LD</td>\n",
       "      <td>LD_2</td>\n",
       "      <td>LD</td>\n",
       "      <td>2018-12-15</td>\n",
       "      <td>ZT14</td>\n",
       "      <td>29:LPN</td>\n",
       "    </tr>\n",
       "    <tr>\n",
       "      <th>20181215_CLK856_LD_ZT14_AR07_ACCAAC</th>\n",
       "      <td>CLK856_LD</td>\n",
       "      <td>LD_2</td>\n",
       "      <td>LD</td>\n",
       "      <td>2018-12-15</td>\n",
       "      <td>ZT14</td>\n",
       "      <td>15:DN1p_CNMa</td>\n",
       "    </tr>\n",
       "    <tr>\n",
       "      <th>20181215_CLK856_LD_ZT14_AR07_ACCAGA</th>\n",
       "      <td>CLK856_LD</td>\n",
       "      <td>LD_2</td>\n",
       "      <td>LD</td>\n",
       "      <td>2018-12-15</td>\n",
       "      <td>ZT14</td>\n",
       "      <td>8:LN_ITP</td>\n",
       "    </tr>\n",
       "    <tr>\n",
       "      <th>20181215_CLK856_LD_ZT14_AR07_ACCATG</th>\n",
       "      <td>CLK856_LD</td>\n",
       "      <td>LD_2</td>\n",
       "      <td>LD</td>\n",
       "      <td>2018-12-15</td>\n",
       "      <td>ZT14</td>\n",
       "      <td>3:DN1a</td>\n",
       "    </tr>\n",
       "    <tr>\n",
       "      <th>...</th>\n",
       "      <td>...</td>\n",
       "      <td>...</td>\n",
       "      <td>...</td>\n",
       "      <td>...</td>\n",
       "      <td>...</td>\n",
       "      <td>...</td>\n",
       "    </tr>\n",
       "    <tr>\n",
       "      <th>20190814_CLK856_DD_CT06_AR20_TCACCA</th>\n",
       "      <td>CLK856_DD</td>\n",
       "      <td>DD_2</td>\n",
       "      <td>DD</td>\n",
       "      <td>2019-08-14</td>\n",
       "      <td>CT06</td>\n",
       "      <td>7:DN1p</td>\n",
       "    </tr>\n",
       "    <tr>\n",
       "      <th>20190814_CLK856_DD_CT06_AR20_TCCTTC</th>\n",
       "      <td>CLK856_DD</td>\n",
       "      <td>DD_2</td>\n",
       "      <td>DD</td>\n",
       "      <td>2019-08-14</td>\n",
       "      <td>CT06</td>\n",
       "      <td>9:LNd_NPF</td>\n",
       "    </tr>\n",
       "    <tr>\n",
       "      <th>20190814_CLK856_DD_CT06_AR20_TGAGAC</th>\n",
       "      <td>CLK856_DD</td>\n",
       "      <td>DD_2</td>\n",
       "      <td>DD</td>\n",
       "      <td>2019-08-14</td>\n",
       "      <td>CT06</td>\n",
       "      <td>3:DN1a</td>\n",
       "    </tr>\n",
       "    <tr>\n",
       "      <th>20190814_CLK856_DD_CT06_AR20_TGAGGA</th>\n",
       "      <td>CLK856_DD</td>\n",
       "      <td>DD_2</td>\n",
       "      <td>DD</td>\n",
       "      <td>2019-08-14</td>\n",
       "      <td>CT06</td>\n",
       "      <td>14:DN3</td>\n",
       "    </tr>\n",
       "    <tr>\n",
       "      <th>20190814_CLK856_DD_CT06_AR20_TGTCGA</th>\n",
       "      <td>CLK856_DD</td>\n",
       "      <td>DD_2</td>\n",
       "      <td>DD</td>\n",
       "      <td>2019-08-14</td>\n",
       "      <td>CT06</td>\n",
       "      <td>8:LN_ITP</td>\n",
       "    </tr>\n",
       "  </tbody>\n",
       "</table>\n",
       "<p>2615 rows × 6 columns</p>\n",
       "</div>"
      ]
     },
     "execution_count": 3,
     "metadata": {},
     "output_type": "execute_result"
    }
   ],
   "execution_count": 3
  },
  {
   "cell_type": "code",
   "metadata": {
    "ExecuteTime": {
     "end_time": "2024-08-16T16:33:51.514906Z",
     "start_time": "2024-08-16T16:33:50.442452Z"
    }
   },
   "source": [
    "# Use the raw SQL query to get all tables\n",
    "query = \"SHOW TABLES\"\n",
    "tables_df = pd.read_sql(query, con=engine)\n",
    "tables_df"
   ],
   "outputs": [
    {
     "data": {
      "text/plain": [
       "  Tables_in_defaultdb\n",
       "0         annotations\n",
       "1              mytest"
      ],
      "text/html": [
       "<div>\n",
       "<style scoped>\n",
       "    .dataframe tbody tr th:only-of-type {\n",
       "        vertical-align: middle;\n",
       "    }\n",
       "\n",
       "    .dataframe tbody tr th {\n",
       "        vertical-align: top;\n",
       "    }\n",
       "\n",
       "    .dataframe thead th {\n",
       "        text-align: right;\n",
       "    }\n",
       "</style>\n",
       "<table border=\"1\" class=\"dataframe\">\n",
       "  <thead>\n",
       "    <tr style=\"text-align: right;\">\n",
       "      <th></th>\n",
       "      <th>Tables_in_defaultdb</th>\n",
       "    </tr>\n",
       "  </thead>\n",
       "  <tbody>\n",
       "    <tr>\n",
       "      <th>0</th>\n",
       "      <td>annotations</td>\n",
       "    </tr>\n",
       "    <tr>\n",
       "      <th>1</th>\n",
       "      <td>mytest</td>\n",
       "    </tr>\n",
       "  </tbody>\n",
       "</table>\n",
       "</div>"
      ]
     },
     "execution_count": 4,
     "metadata": {},
     "output_type": "execute_result"
    }
   ],
   "execution_count": 4
  },
  {
   "cell_type": "code",
   "metadata": {
    "ExecuteTime": {
     "end_time": "2024-08-16T16:34:08.220555Z",
     "start_time": "2024-08-16T16:34:07.159700Z"
    }
   },
   "source": [
    "query = f\"DESCRIBE annotations\"\n",
    "columns_df = pd.read_sql(query, con=engine)\n",
    "columns_df"
   ],
   "outputs": [
    {
     "data": {
      "text/plain": [
       "         Field          Type Null  Key Default Extra\n",
       "0  single_cell  varchar(255)   NO  PRI    None      \n",
       "1   experiment  varchar(255)  YES         None      \n",
       "2      Repeats  varchar(255)  YES         None      \n",
       "3    condition  varchar(255)  YES         None      \n",
       "4         date          date  YES         None      \n",
       "5         time  varchar(255)  YES         None      \n",
       "6       Idents  varchar(255)  YES         None      "
      ],
      "text/html": [
       "<div>\n",
       "<style scoped>\n",
       "    .dataframe tbody tr th:only-of-type {\n",
       "        vertical-align: middle;\n",
       "    }\n",
       "\n",
       "    .dataframe tbody tr th {\n",
       "        vertical-align: top;\n",
       "    }\n",
       "\n",
       "    .dataframe thead th {\n",
       "        text-align: right;\n",
       "    }\n",
       "</style>\n",
       "<table border=\"1\" class=\"dataframe\">\n",
       "  <thead>\n",
       "    <tr style=\"text-align: right;\">\n",
       "      <th></th>\n",
       "      <th>Field</th>\n",
       "      <th>Type</th>\n",
       "      <th>Null</th>\n",
       "      <th>Key</th>\n",
       "      <th>Default</th>\n",
       "      <th>Extra</th>\n",
       "    </tr>\n",
       "  </thead>\n",
       "  <tbody>\n",
       "    <tr>\n",
       "      <th>0</th>\n",
       "      <td>single_cell</td>\n",
       "      <td>varchar(255)</td>\n",
       "      <td>NO</td>\n",
       "      <td>PRI</td>\n",
       "      <td>None</td>\n",
       "      <td></td>\n",
       "    </tr>\n",
       "    <tr>\n",
       "      <th>1</th>\n",
       "      <td>experiment</td>\n",
       "      <td>varchar(255)</td>\n",
       "      <td>YES</td>\n",
       "      <td></td>\n",
       "      <td>None</td>\n",
       "      <td></td>\n",
       "    </tr>\n",
       "    <tr>\n",
       "      <th>2</th>\n",
       "      <td>Repeats</td>\n",
       "      <td>varchar(255)</td>\n",
       "      <td>YES</td>\n",
       "      <td></td>\n",
       "      <td>None</td>\n",
       "      <td></td>\n",
       "    </tr>\n",
       "    <tr>\n",
       "      <th>3</th>\n",
       "      <td>condition</td>\n",
       "      <td>varchar(255)</td>\n",
       "      <td>YES</td>\n",
       "      <td></td>\n",
       "      <td>None</td>\n",
       "      <td></td>\n",
       "    </tr>\n",
       "    <tr>\n",
       "      <th>4</th>\n",
       "      <td>date</td>\n",
       "      <td>date</td>\n",
       "      <td>YES</td>\n",
       "      <td></td>\n",
       "      <td>None</td>\n",
       "      <td></td>\n",
       "    </tr>\n",
       "    <tr>\n",
       "      <th>5</th>\n",
       "      <td>time</td>\n",
       "      <td>varchar(255)</td>\n",
       "      <td>YES</td>\n",
       "      <td></td>\n",
       "      <td>None</td>\n",
       "      <td></td>\n",
       "    </tr>\n",
       "    <tr>\n",
       "      <th>6</th>\n",
       "      <td>Idents</td>\n",
       "      <td>varchar(255)</td>\n",
       "      <td>YES</td>\n",
       "      <td></td>\n",
       "      <td>None</td>\n",
       "      <td></td>\n",
       "    </tr>\n",
       "  </tbody>\n",
       "</table>\n",
       "</div>"
      ]
     },
     "execution_count": 5,
     "metadata": {},
     "output_type": "execute_result"
    }
   ],
   "execution_count": 5
  },
  {
   "metadata": {},
   "cell_type": "markdown",
   "source": "## Load experimental gene expression data"
  },
  {
   "cell_type": "markdown",
   "metadata": {},
   "source": "First, gather data from all files"
  },
  {
   "cell_type": "code",
   "metadata": {
    "ExecuteTime": {
     "end_time": "2024-08-16T17:05:05.376427Z",
     "start_time": "2024-08-16T17:05:05.350554Z"
    }
   },
   "source": [
    "with open('DD_genes.txt', 'r') as f:\n",
    "    genes_DD = f.read().splitlines()\n",
    "\n",
    "with open('LD_genes.txt', 'r') as f:\n",
    "    genes_LD = f.read().splitlines()\n",
    "\n",
    "print(len(genes_LD))\n",
    "print(len(genes_DD))"
   ],
   "outputs": [
    {
     "name": "stdout",
     "output_type": "stream",
     "text": [
      "15743\n",
      "15650\n"
     ]
    }
   ],
   "execution_count": 28
  },
  {
   "metadata": {
    "ExecuteTime": {
     "end_time": "2024-08-16T17:36:05.021863Z",
     "start_time": "2024-08-16T17:35:55.638807Z"
    }
   },
   "cell_type": "code",
   "source": [
    "DATA_PATH = r'../dataset/'\n",
    "mapper = lambda x : x[1:] # removes leading 'x' char in idx strings\n",
    "list_DD = []\n",
    "list_LD = []\n",
    "file_names = os.listdir(DATA_PATH)\n",
    "\n",
    "for filename in file_names:\n",
    "    print(f\"filename: {filename}\")\n",
    "    new_df = pd.read_csv(f\"{DATA_PATH}/{filename}\", \n",
    "                         index_col=0, \n",
    "                         # na_values=[\"\", \"NaN\", \"NULL\"], \n",
    "                         keep_default_na=False)\n",
    "    new_df = new_df.rename(mapper, axis='columns')\n",
    "    new_df = new_df.T\n",
    "    if 'ZT' in filename:\n",
    "        list_LD.append(new_df)\n",
    "    elif 'CT' in filename:\n",
    "        list_DD.append(new_df)\n",
    "    else:\n",
    "        raise ValueError(f\"File {filename} has no ZT or CT data\")\n",
    "    \n",
    "df_LD = pd.concat(list_LD)\n",
    "df_DD = pd.concat(list_DD)"
   ],
   "outputs": [
    {
     "name": "stdout",
     "output_type": "stream",
     "text": [
      "filename: GSM4768020_CT02_20190528_AR05.csv\n",
      "filename: GSM4768021_CT02_20190528_AR06.csv\n",
      "filename: GSM4768022_CT02_20190528_AR07.csv\n",
      "filename: GSM4768023_CT02_20190528_AR08.csv\n",
      "filename: GSM4768024_CT02_20190702_AR13.csv\n",
      "filename: GSM4768025_CT02_20190702_AR14.csv\n",
      "filename: GSM4768026_CT02_20190702_AR15.csv\n",
      "filename: GSM4768027_CT02_20190702_AR16.csv\n",
      "filename: GSM4768028_CT06_20190710_AR01.csv\n",
      "filename: GSM4768029_CT06_20190710_AR02.csv\n",
      "filename: GSM4768030_CT06_20190710_AR03.csv\n",
      "filename: GSM4768031_CT06_20190710_AR04.csv\n",
      "filename: GSM4768032_CT06_20190719_AR17.csv\n",
      "filename: GSM4768033_CT06_20190719_AR18.csv\n",
      "filename: GSM4768034_CT06_20190814_AR19.csv\n",
      "filename: GSM4768035_CT06_20190814_AR20.csv\n",
      "filename: GSM4768036_CT10_20190524_AR03.csv\n",
      "filename: GSM4768037_CT10_20190524_AR04.csv\n",
      "filename: GSM4768038_CT10_20190610_AR01.csv\n",
      "filename: GSM4768039_CT10_20190610_AR02.csv\n",
      "filename: GSM4768040_CT10_20190704_AR04.csv\n",
      "filename: GSM4768041_CT10_20190704_AR05.csv\n",
      "filename: GSM4768042_CT10_20190704_AR06.csv\n",
      "filename: GSM4768043_CT10_20190704_AR07.csv\n",
      "filename: GSM4768044_CT14_20190001_AR01.csv\n",
      "filename: GSM4768045_CT14_20190001_AR02.csv\n",
      "filename: GSM4768046_CT14_20190001_AR03.csv\n",
      "filename: GSM4768047_CT14_20190001_AR04.csv\n",
      "filename: GSM4768048_CT14_20190702_AR17.csv\n",
      "filename: GSM4768049_CT14_20190702_AR18.csv\n",
      "filename: GSM4768050_CT14_20190702_AR19.csv\n",
      "filename: GSM4768051_CT14_20190702_AR20.csv\n",
      "filename: GSM4768052_CT18_20190613_AR03.csv\n",
      "filename: GSM4768053_CT18_20190613_AR07.csv\n",
      "filename: GSM4768054_CT18_20190613_AR08.csv\n",
      "filename: GSM4768055_CT18_20190613_AR12.csv\n",
      "filename: GSM4768056_CT18_20190710_AR17.csv\n",
      "filename: GSM4768057_CT18_20190710_AR18.csv\n",
      "filename: GSM4768058_CT18_20190710_AR19.csv\n",
      "filename: GSM4768059_CT18_20190710_AR20.csv\n",
      "filename: GSM4768060_CT22_20190613_AR13.csv\n",
      "filename: GSM4768061_CT22_20190613_AR14.csv\n",
      "filename: GSM4768062_CT22_20190613_AR15.csv\n",
      "filename: GSM4768063_CT22_20190613_AR16.csv\n",
      "filename: GSM4768064_CT22_20190704_AR08.csv\n",
      "filename: GSM4768065_CT22_20190704_AR12.csv\n",
      "filename: GSM4768066_CT22_20190704_AR13.csv\n",
      "filename: GSM4768067_CT22_20190704_AR14.csv\n",
      "filename: GSM4768068_ZT02_20190309_AR08.csv\n",
      "filename: GSM4768069_ZT02_20190309_AR12.csv\n",
      "filename: GSM4768070_ZT02_20181231_AR03.csv\n",
      "filename: GSM4768071_ZT02_20181231_AR04.csv\n",
      "filename: GSM4768072_ZT02_20181231_AR05.csv\n",
      "filename: GSM4768073_ZT02_20181231_AR06.csv\n",
      "filename: GSM4768074_ZT06_20190228_AR02.csv\n",
      "filename: GSM4768075_ZT06_20190228_AR04.csv\n",
      "filename: GSM4768076_ZT06_20190228_AR06.csv\n",
      "filename: GSM4768077_ZT06_20190228_AR08.csv\n",
      "filename: GSM4768078_ZT06_20190309_AR03.csv\n",
      "filename: GSM4768079_ZT06_20190309_AR04.csv\n",
      "filename: GSM4768080_ZT10_20190228_AR01.csv\n",
      "filename: GSM4768081_ZT10_20190228_AR03.csv\n",
      "filename: GSM4768082_ZT10_20190228_AR05.csv\n",
      "filename: GSM4768083_ZT10_20190301_AR01.csv\n",
      "filename: GSM4768084_ZT10_20190309_AR06.csv\n",
      "filename: GSM4768085_ZT10_20190309_AR07.csv\n",
      "filename: GSM4768086_ZT14_20181215_AR07.csv\n",
      "filename: GSM4768087_ZT14_20181215_AR08.csv\n",
      "filename: GSM4768088_ZT14_20181231_AR01.csv\n",
      "filename: GSM4768089_ZT14_20181231_AR02.csv\n",
      "filename: GSM4768090_ZT14_20181231_AR07.csv\n",
      "filename: GSM4768091_ZT14_20181231_AR08.csv\n",
      "filename: GSM4768092_ZT18_20190228_AR07.csv\n",
      "filename: GSM4768093_ZT18_20190301_AR02.csv\n",
      "filename: GSM4768094_ZT18_20190301_AR03.csv\n",
      "filename: GSM4768095_ZT18_20190301_AR06.csv\n",
      "filename: GSM4768096_ZT18_20190301_AR07.csv\n",
      "filename: GSM4768097_ZT18_20190301_AR12.csv\n",
      "filename: GSM4768098_ZT22_20190219_AR04.csv\n",
      "filename: GSM4768099_ZT22_20190219_AR07.csv\n",
      "filename: GSM4768100_ZT22_20190219_AR12.csv\n",
      "filename: GSM4768101_ZT22_20190228_AR012.csv\n",
      "filename: GSM4768102_ZT22_20190309_AR01.csv\n",
      "filename: GSM4768103_ZT22_20190309_AR02.csv\n"
     ]
    }
   ],
   "execution_count": 44
  },
  {
   "metadata": {
    "ExecuteTime": {
     "end_time": "2024-08-16T17:36:07.080590Z",
     "start_time": "2024-08-16T17:36:07.072181Z"
    }
   },
   "cell_type": "code",
   "source": [
    "expected_rows = 8060\n",
    "print(df_LD.shape)\n",
    "assert df_LD.shape[1] == len(genes_LD)\n",
    "assert df_DD.shape[1] == len(genes_DD)\n",
    "assert df_LD.shape[0] + df_DD.shape[0] == expected_rows\n",
    "print('data size tests passed')"
   ],
   "outputs": [
    {
     "name": "stdout",
     "output_type": "stream",
     "text": [
      "(3453, 15743)\n",
      "data size tests passed\n"
     ]
    }
   ],
   "execution_count": 45
  },
  {
   "metadata": {
    "ExecuteTime": {
     "end_time": "2024-08-16T17:36:12.985245Z",
     "start_time": "2024-08-16T17:36:09.426558Z"
    }
   },
   "cell_type": "code",
   "source": [
    "for col in df_LD.columns:\n",
    "    if col not in genes_LD:\n",
    "        print(f\"{col} not in zt_genes\")\n",
    "        break\n",
    "else:\n",
    "    print('all genes found for LD')\n",
    "    \n",
    "for col in df_DD.columns:\n",
    "    if col not in genes_DD:\n",
    "        print(f\"{col} not in ct_genes\")\n",
    "        break\n",
    "else:\n",
    "    print('all genes found for DD')"
   ],
   "outputs": [
    {
     "name": "stdout",
     "output_type": "stream",
     "text": [
      "all genes found for LD\n",
      "all genes found for DD\n"
     ]
    }
   ],
   "execution_count": 46
  },
  {
   "metadata": {},
   "cell_type": "markdown",
   "source": "Now, try to create tables"
  },
  {
   "metadata": {
    "ExecuteTime": {
     "end_time": "2024-08-16T17:26:13.539190Z",
     "start_time": "2024-08-16T17:26:08.848972Z"
    }
   },
   "cell_type": "code",
   "source": [
    "try:\n",
    "    df_DD.to_sql(name='DD_experiments',\n",
    "                 con=engine,\n",
    "                 index=True,\n",
    "                 if_exists='replace',\n",
    "                 index_label='single_cell')\n",
    "except Exception as e:\n",
    "    print(str(e).split('\\n')[0])"
   ],
   "outputs": [
    {
     "name": "stdout",
     "output_type": "stream",
     "text": [
      "(MySQLdb.OperationalError) (1117, 'Too many columns')\n"
     ]
    }
   ],
   "execution_count": 41
  },
  {
   "metadata": {},
   "cell_type": "markdown",
   "source": "This way of representing data didn't work. Maybe transposing will do the trick"
  },
  {
   "metadata": {
    "ExecuteTime": {
     "end_time": "2024-08-16T17:27:43.470070Z",
     "start_time": "2024-08-16T17:27:40.280121Z"
    }
   },
   "cell_type": "code",
   "source": [
    "df_DD_T = df_DD.T.copy()\n",
    "try:\n",
    "    df_DD_T.to_sql(name='DD_experiments',\n",
    "                   con=engine,\n",
    "                   index=True,\n",
    "                   if_exists='replace',\n",
    "                   index_label='single_cell')\n",
    "except Exception as e:\n",
    "    print(str(e).split('\\n')[0])"
   ],
   "outputs": [
    {
     "name": "stdout",
     "output_type": "stream",
     "text": [
      "(MySQLdb.OperationalError) (1117, 'Too many columns')\n"
     ]
    }
   ],
   "execution_count": 43
  },
  {
   "metadata": {},
   "cell_type": "markdown",
   "source": "This didn't work either. We need to break data down into smaller tables"
  },
  {
   "metadata": {
    "ExecuteTime": {
     "end_time": "2024-08-16T17:40:22.254657Z",
     "start_time": "2024-08-16T17:40:22.234265Z"
    }
   },
   "cell_type": "code",
   "source": "",
   "outputs": [
    {
     "data": {
      "text/plain": [
       "'GSM4768020_CT02_20190528_AR05.csv'"
      ]
     },
     "execution_count": 47,
     "metadata": {},
     "output_type": "execute_result"
    }
   ],
   "execution_count": 47
  }
 ],
 "metadata": {
  "kernelspec": {
   "display_name": "psivenv",
   "language": "python",
   "name": "python3"
  },
  "language_info": {
   "codemirror_mode": {
    "name": "ipython",
    "version": 3
   },
   "file_extension": ".py",
   "mimetype": "text/x-python",
   "name": "python",
   "nbconvert_exporter": "python",
   "pygments_lexer": "ipython3",
   "version": "3.12.3"
  }
 },
 "nbformat": 4,
 "nbformat_minor": 2
}
