{
 "cells": [
  {
   "cell_type": "markdown",
   "metadata": {},
   "source": "# Export annotation data to aiven database"
  },
  {
   "cell_type": "code",
   "metadata": {
    "ExecuteTime": {
     "end_time": "2024-08-19T22:55:39.715441Z",
     "start_time": "2024-08-19T22:55:39.382477Z"
    }
   },
   "source": [
    "from dotenv import load_dotenv\n",
    "from sqlalchemy import create_engine, text\n",
    "import os\n",
    "import pandas as pd"
   ],
   "outputs": [],
   "execution_count": 1
  },
  {
   "cell_type": "code",
   "metadata": {
    "ExecuteTime": {
     "end_time": "2024-08-19T22:55:39.841526Z",
     "start_time": "2024-08-19T22:55:39.718427Z"
    }
   },
   "source": [
    "load_dotenv()\n",
    "db_host = os.getenv('DB_HOST')\n",
    "db_user = os.getenv('DB_USER')\n",
    "db_password = os.getenv('DB_PASS')\n",
    "db_port = 10184\n",
    "database = \"defaultdb\"\n",
    "host_url = rf\"mysql://{db_user}:{db_password}@{db_host}:{db_port}/{database}\"\n",
    "\n",
    "engine = create_engine(host_url)"
   ],
   "outputs": [],
   "execution_count": 2
  },
  {
   "cell_type": "markdown",
   "metadata": {},
   "source": [
    "Now, read csv to pandas dataframe"
   ]
  },
  {
   "cell_type": "code",
   "metadata": {
    "ExecuteTime": {
     "end_time": "2024-08-19T22:56:02.667380Z",
     "start_time": "2024-08-19T22:56:02.585063Z"
    }
   },
   "source": [
    "annot_df = pd.read_csv('neuron_annotations.csv', index_col=0)\n",
    "annot_df"
   ],
   "outputs": [
    {
     "data": {
      "text/plain": [
       "                                    experiment Repeats condition        date  \\\n",
       "20181215_CLK856_LD_ZT14_AR07_ACAGGA  CLK856_LD    LD_2        LD  2018-12-15   \n",
       "20181215_CLK856_LD_ZT14_AR07_CTTCTG  CLK856_LD    LD_2        LD  2018-12-15   \n",
       "20181231_CLK856_LD_ZT14_AR02_GTACCA  CLK856_LD    LD_1        LD  2018-12-31   \n",
       "20181231_CLK856_LD_ZT14_AR02_TCCTTC  CLK856_LD    LD_1        LD  2018-12-31   \n",
       "20181231_CLK856_LD_ZT14_AR08_AGACAG  CLK856_LD    LD_1        LD  2018-12-31   \n",
       "...                                        ...     ...       ...         ...   \n",
       "20190710_CLK856_DD_CT06_AR04_GTCTTC  CLK856_DD    DD_1        DD  2019-07-10   \n",
       "20190710_CLK856_DD_CT06_AR04_TCCTTC  CLK856_DD    DD_1        DD  2019-07-10   \n",
       "20190719_CLK856_DD_CT06_AR18_GTCTTC  CLK856_DD    DD_2        DD  2019-07-19   \n",
       "20190814_CLK856_DD_CT06_AR19_TCTGCA  CLK856_DD    DD_2        DD  2019-08-14   \n",
       "20190814_CLK856_DD_CT06_AR20_CACTTC  CLK856_DD    DD_2        DD  2019-08-14   \n",
       "\n",
       "                                     time       Idents  \n",
       "20181215_CLK856_LD_ZT14_AR07_ACAGGA  ZT14       29:LPN  \n",
       "20181215_CLK856_LD_ZT14_AR07_CTTCTG  ZT14       29:LPN  \n",
       "20181231_CLK856_LD_ZT14_AR02_GTACCA  ZT14       29:LPN  \n",
       "20181231_CLK856_LD_ZT14_AR02_TCCTTC  ZT14       29:LPN  \n",
       "20181231_CLK856_LD_ZT14_AR08_AGACAG  ZT14       29:LPN  \n",
       "...                                   ...          ...  \n",
       "20190710_CLK856_DD_CT06_AR04_GTCTTC  CT06  1:DN1p_CNMa  \n",
       "20190710_CLK856_DD_CT06_AR04_TCCTTC  CT06  1:DN1p_CNMa  \n",
       "20190719_CLK856_DD_CT06_AR18_GTCTTC  CT06  1:DN1p_CNMa  \n",
       "20190814_CLK856_DD_CT06_AR19_TCTGCA  CT06  1:DN1p_CNMa  \n",
       "20190814_CLK856_DD_CT06_AR20_CACTTC  CT06  1:DN1p_CNMa  \n",
       "\n",
       "[2615 rows x 6 columns]"
      ],
      "text/html": [
       "<div>\n",
       "<style scoped>\n",
       "    .dataframe tbody tr th:only-of-type {\n",
       "        vertical-align: middle;\n",
       "    }\n",
       "\n",
       "    .dataframe tbody tr th {\n",
       "        vertical-align: top;\n",
       "    }\n",
       "\n",
       "    .dataframe thead th {\n",
       "        text-align: right;\n",
       "    }\n",
       "</style>\n",
       "<table border=\"1\" class=\"dataframe\">\n",
       "  <thead>\n",
       "    <tr style=\"text-align: right;\">\n",
       "      <th></th>\n",
       "      <th>experiment</th>\n",
       "      <th>Repeats</th>\n",
       "      <th>condition</th>\n",
       "      <th>date</th>\n",
       "      <th>time</th>\n",
       "      <th>Idents</th>\n",
       "    </tr>\n",
       "  </thead>\n",
       "  <tbody>\n",
       "    <tr>\n",
       "      <th>20181215_CLK856_LD_ZT14_AR07_ACAGGA</th>\n",
       "      <td>CLK856_LD</td>\n",
       "      <td>LD_2</td>\n",
       "      <td>LD</td>\n",
       "      <td>2018-12-15</td>\n",
       "      <td>ZT14</td>\n",
       "      <td>29:LPN</td>\n",
       "    </tr>\n",
       "    <tr>\n",
       "      <th>20181215_CLK856_LD_ZT14_AR07_CTTCTG</th>\n",
       "      <td>CLK856_LD</td>\n",
       "      <td>LD_2</td>\n",
       "      <td>LD</td>\n",
       "      <td>2018-12-15</td>\n",
       "      <td>ZT14</td>\n",
       "      <td>29:LPN</td>\n",
       "    </tr>\n",
       "    <tr>\n",
       "      <th>20181231_CLK856_LD_ZT14_AR02_GTACCA</th>\n",
       "      <td>CLK856_LD</td>\n",
       "      <td>LD_1</td>\n",
       "      <td>LD</td>\n",
       "      <td>2018-12-31</td>\n",
       "      <td>ZT14</td>\n",
       "      <td>29:LPN</td>\n",
       "    </tr>\n",
       "    <tr>\n",
       "      <th>20181231_CLK856_LD_ZT14_AR02_TCCTTC</th>\n",
       "      <td>CLK856_LD</td>\n",
       "      <td>LD_1</td>\n",
       "      <td>LD</td>\n",
       "      <td>2018-12-31</td>\n",
       "      <td>ZT14</td>\n",
       "      <td>29:LPN</td>\n",
       "    </tr>\n",
       "    <tr>\n",
       "      <th>20181231_CLK856_LD_ZT14_AR08_AGACAG</th>\n",
       "      <td>CLK856_LD</td>\n",
       "      <td>LD_1</td>\n",
       "      <td>LD</td>\n",
       "      <td>2018-12-31</td>\n",
       "      <td>ZT14</td>\n",
       "      <td>29:LPN</td>\n",
       "    </tr>\n",
       "    <tr>\n",
       "      <th>...</th>\n",
       "      <td>...</td>\n",
       "      <td>...</td>\n",
       "      <td>...</td>\n",
       "      <td>...</td>\n",
       "      <td>...</td>\n",
       "      <td>...</td>\n",
       "    </tr>\n",
       "    <tr>\n",
       "      <th>20190710_CLK856_DD_CT06_AR04_GTCTTC</th>\n",
       "      <td>CLK856_DD</td>\n",
       "      <td>DD_1</td>\n",
       "      <td>DD</td>\n",
       "      <td>2019-07-10</td>\n",
       "      <td>CT06</td>\n",
       "      <td>1:DN1p_CNMa</td>\n",
       "    </tr>\n",
       "    <tr>\n",
       "      <th>20190710_CLK856_DD_CT06_AR04_TCCTTC</th>\n",
       "      <td>CLK856_DD</td>\n",
       "      <td>DD_1</td>\n",
       "      <td>DD</td>\n",
       "      <td>2019-07-10</td>\n",
       "      <td>CT06</td>\n",
       "      <td>1:DN1p_CNMa</td>\n",
       "    </tr>\n",
       "    <tr>\n",
       "      <th>20190719_CLK856_DD_CT06_AR18_GTCTTC</th>\n",
       "      <td>CLK856_DD</td>\n",
       "      <td>DD_2</td>\n",
       "      <td>DD</td>\n",
       "      <td>2019-07-19</td>\n",
       "      <td>CT06</td>\n",
       "      <td>1:DN1p_CNMa</td>\n",
       "    </tr>\n",
       "    <tr>\n",
       "      <th>20190814_CLK856_DD_CT06_AR19_TCTGCA</th>\n",
       "      <td>CLK856_DD</td>\n",
       "      <td>DD_2</td>\n",
       "      <td>DD</td>\n",
       "      <td>2019-08-14</td>\n",
       "      <td>CT06</td>\n",
       "      <td>1:DN1p_CNMa</td>\n",
       "    </tr>\n",
       "    <tr>\n",
       "      <th>20190814_CLK856_DD_CT06_AR20_CACTTC</th>\n",
       "      <td>CLK856_DD</td>\n",
       "      <td>DD_2</td>\n",
       "      <td>DD</td>\n",
       "      <td>2019-08-14</td>\n",
       "      <td>CT06</td>\n",
       "      <td>1:DN1p_CNMa</td>\n",
       "    </tr>\n",
       "  </tbody>\n",
       "</table>\n",
       "<p>2615 rows × 6 columns</p>\n",
       "</div>"
      ]
     },
     "execution_count": 3,
     "metadata": {},
     "output_type": "execute_result"
    }
   ],
   "execution_count": 3
  },
  {
   "metadata": {
    "ExecuteTime": {
     "end_time": "2024-08-19T23:05:36.928722Z",
     "start_time": "2024-08-19T23:05:36.915756Z"
    }
   },
   "cell_type": "code",
   "source": "len(\"20190001_CLK856_DD_CT14_AR01_CTTCTG\")",
   "outputs": [
    {
     "data": {
      "text/plain": [
       "35"
      ]
     },
     "execution_count": 14,
     "metadata": {},
     "output_type": "execute_result"
    }
   ],
   "execution_count": 14
  },
  {
   "cell_type": "markdown",
   "metadata": {},
   "source": [
    "First, create table"
   ]
  },
  {
   "metadata": {
    "ExecuteTime": {
     "end_time": "2024-08-19T23:07:01.438922Z",
     "start_time": "2024-08-19T23:07:00.692179Z"
    }
   },
   "cell_type": "code",
   "source": [
    "with engine.connect() as connection:\n",
    "    connection.execute(text('DROP TABLE annotations'))"
   ],
   "outputs": [],
   "execution_count": 18
  },
  {
   "cell_type": "code",
   "metadata": {
    "ExecuteTime": {
     "end_time": "2024-08-19T23:07:03.271056Z",
     "start_time": "2024-08-19T23:07:02.526015Z"
    }
   },
   "source": [
    "ddl = \"\"\"CREATE TABLE \"annotations\" (\n",
    "        \"single_cell\" CHAR(36) PRIMARY KEY,\n",
    "        \"experiment\" VARCHAR(255),\n",
    "        \"Repeats\" VARCHAR(255),\n",
    "        \"condition\" VARCHAR(255),\n",
    "        \"date\" DATE,\n",
    "        \"time\" VARCHAR(255),\n",
    "        \"Idents\" VARCHAR(255)\n",
    "        )\"\"\"  \n",
    "\n",
    "with engine.connect() as connection:\n",
    "    connection.execute(text(ddl))"
   ],
   "outputs": [],
   "execution_count": 19
  },
  {
   "cell_type": "code",
   "metadata": {
    "ExecuteTime": {
     "end_time": "2024-08-19T23:07:16.881313Z",
     "start_time": "2024-08-19T23:07:05.111802Z"
    }
   },
   "source": [
    "annot_df.to_sql(name='annotations',\n",
    "                con=engine,\n",
    "                index=True,\n",
    "                if_exists='append',\n",
    "                index_label='single_cell')"
   ],
   "outputs": [
    {
     "data": {
      "text/plain": [
       "2615"
      ]
     },
     "execution_count": 20,
     "metadata": {},
     "output_type": "execute_result"
    }
   ],
   "execution_count": 20
  },
  {
   "cell_type": "code",
   "metadata": {
    "ExecuteTime": {
     "end_time": "2024-08-19T23:07:25.751171Z",
     "start_time": "2024-08-19T23:07:22.813428Z"
    }
   },
   "source": [
    "df_result = pd.read_sql(\"SELECT * FROM annotations\", con=engine, index_col='single_cell')\n",
    "df_result"
   ],
   "outputs": [
    {
     "data": {
      "text/plain": [
       "                                    experiment Repeats condition        date  \\\n",
       "single_cell                                                                    \n",
       "20181215_CLK856_LD_ZT14_AR07_ACAGAC  CLK856_LD    LD_2        LD  2018-12-15   \n",
       "20181215_CLK856_LD_ZT14_AR07_ACAGGA  CLK856_LD    LD_2        LD  2018-12-15   \n",
       "20181215_CLK856_LD_ZT14_AR07_ACCAAC  CLK856_LD    LD_2        LD  2018-12-15   \n",
       "20181215_CLK856_LD_ZT14_AR07_ACCAGA  CLK856_LD    LD_2        LD  2018-12-15   \n",
       "20181215_CLK856_LD_ZT14_AR07_ACCATG  CLK856_LD    LD_2        LD  2018-12-15   \n",
       "...                                        ...     ...       ...         ...   \n",
       "20190814_CLK856_DD_CT06_AR20_TCACCA  CLK856_DD    DD_2        DD  2019-08-14   \n",
       "20190814_CLK856_DD_CT06_AR20_TCCTTC  CLK856_DD    DD_2        DD  2019-08-14   \n",
       "20190814_CLK856_DD_CT06_AR20_TGAGAC  CLK856_DD    DD_2        DD  2019-08-14   \n",
       "20190814_CLK856_DD_CT06_AR20_TGAGGA  CLK856_DD    DD_2        DD  2019-08-14   \n",
       "20190814_CLK856_DD_CT06_AR20_TGTCGA  CLK856_DD    DD_2        DD  2019-08-14   \n",
       "\n",
       "                                     time        Idents  \n",
       "single_cell                                              \n",
       "20181215_CLK856_LD_ZT14_AR07_ACAGAC  ZT14   1:DN1p_CNMa  \n",
       "20181215_CLK856_LD_ZT14_AR07_ACAGGA  ZT14        29:LPN  \n",
       "20181215_CLK856_LD_ZT14_AR07_ACCAAC  ZT14  15:DN1p_CNMa  \n",
       "20181215_CLK856_LD_ZT14_AR07_ACCAGA  ZT14      8:LN_ITP  \n",
       "20181215_CLK856_LD_ZT14_AR07_ACCATG  ZT14        3:DN1a  \n",
       "...                                   ...           ...  \n",
       "20190814_CLK856_DD_CT06_AR20_TCACCA  CT06        7:DN1p  \n",
       "20190814_CLK856_DD_CT06_AR20_TCCTTC  CT06     9:LNd_NPF  \n",
       "20190814_CLK856_DD_CT06_AR20_TGAGAC  CT06        3:DN1a  \n",
       "20190814_CLK856_DD_CT06_AR20_TGAGGA  CT06        14:DN3  \n",
       "20190814_CLK856_DD_CT06_AR20_TGTCGA  CT06      8:LN_ITP  \n",
       "\n",
       "[2615 rows x 6 columns]"
      ],
      "text/html": [
       "<div>\n",
       "<style scoped>\n",
       "    .dataframe tbody tr th:only-of-type {\n",
       "        vertical-align: middle;\n",
       "    }\n",
       "\n",
       "    .dataframe tbody tr th {\n",
       "        vertical-align: top;\n",
       "    }\n",
       "\n",
       "    .dataframe thead th {\n",
       "        text-align: right;\n",
       "    }\n",
       "</style>\n",
       "<table border=\"1\" class=\"dataframe\">\n",
       "  <thead>\n",
       "    <tr style=\"text-align: right;\">\n",
       "      <th></th>\n",
       "      <th>experiment</th>\n",
       "      <th>Repeats</th>\n",
       "      <th>condition</th>\n",
       "      <th>date</th>\n",
       "      <th>time</th>\n",
       "      <th>Idents</th>\n",
       "    </tr>\n",
       "    <tr>\n",
       "      <th>single_cell</th>\n",
       "      <th></th>\n",
       "      <th></th>\n",
       "      <th></th>\n",
       "      <th></th>\n",
       "      <th></th>\n",
       "      <th></th>\n",
       "    </tr>\n",
       "  </thead>\n",
       "  <tbody>\n",
       "    <tr>\n",
       "      <th>20181215_CLK856_LD_ZT14_AR07_ACAGAC</th>\n",
       "      <td>CLK856_LD</td>\n",
       "      <td>LD_2</td>\n",
       "      <td>LD</td>\n",
       "      <td>2018-12-15</td>\n",
       "      <td>ZT14</td>\n",
       "      <td>1:DN1p_CNMa</td>\n",
       "    </tr>\n",
       "    <tr>\n",
       "      <th>20181215_CLK856_LD_ZT14_AR07_ACAGGA</th>\n",
       "      <td>CLK856_LD</td>\n",
       "      <td>LD_2</td>\n",
       "      <td>LD</td>\n",
       "      <td>2018-12-15</td>\n",
       "      <td>ZT14</td>\n",
       "      <td>29:LPN</td>\n",
       "    </tr>\n",
       "    <tr>\n",
       "      <th>20181215_CLK856_LD_ZT14_AR07_ACCAAC</th>\n",
       "      <td>CLK856_LD</td>\n",
       "      <td>LD_2</td>\n",
       "      <td>LD</td>\n",
       "      <td>2018-12-15</td>\n",
       "      <td>ZT14</td>\n",
       "      <td>15:DN1p_CNMa</td>\n",
       "    </tr>\n",
       "    <tr>\n",
       "      <th>20181215_CLK856_LD_ZT14_AR07_ACCAGA</th>\n",
       "      <td>CLK856_LD</td>\n",
       "      <td>LD_2</td>\n",
       "      <td>LD</td>\n",
       "      <td>2018-12-15</td>\n",
       "      <td>ZT14</td>\n",
       "      <td>8:LN_ITP</td>\n",
       "    </tr>\n",
       "    <tr>\n",
       "      <th>20181215_CLK856_LD_ZT14_AR07_ACCATG</th>\n",
       "      <td>CLK856_LD</td>\n",
       "      <td>LD_2</td>\n",
       "      <td>LD</td>\n",
       "      <td>2018-12-15</td>\n",
       "      <td>ZT14</td>\n",
       "      <td>3:DN1a</td>\n",
       "    </tr>\n",
       "    <tr>\n",
       "      <th>...</th>\n",
       "      <td>...</td>\n",
       "      <td>...</td>\n",
       "      <td>...</td>\n",
       "      <td>...</td>\n",
       "      <td>...</td>\n",
       "      <td>...</td>\n",
       "    </tr>\n",
       "    <tr>\n",
       "      <th>20190814_CLK856_DD_CT06_AR20_TCACCA</th>\n",
       "      <td>CLK856_DD</td>\n",
       "      <td>DD_2</td>\n",
       "      <td>DD</td>\n",
       "      <td>2019-08-14</td>\n",
       "      <td>CT06</td>\n",
       "      <td>7:DN1p</td>\n",
       "    </tr>\n",
       "    <tr>\n",
       "      <th>20190814_CLK856_DD_CT06_AR20_TCCTTC</th>\n",
       "      <td>CLK856_DD</td>\n",
       "      <td>DD_2</td>\n",
       "      <td>DD</td>\n",
       "      <td>2019-08-14</td>\n",
       "      <td>CT06</td>\n",
       "      <td>9:LNd_NPF</td>\n",
       "    </tr>\n",
       "    <tr>\n",
       "      <th>20190814_CLK856_DD_CT06_AR20_TGAGAC</th>\n",
       "      <td>CLK856_DD</td>\n",
       "      <td>DD_2</td>\n",
       "      <td>DD</td>\n",
       "      <td>2019-08-14</td>\n",
       "      <td>CT06</td>\n",
       "      <td>3:DN1a</td>\n",
       "    </tr>\n",
       "    <tr>\n",
       "      <th>20190814_CLK856_DD_CT06_AR20_TGAGGA</th>\n",
       "      <td>CLK856_DD</td>\n",
       "      <td>DD_2</td>\n",
       "      <td>DD</td>\n",
       "      <td>2019-08-14</td>\n",
       "      <td>CT06</td>\n",
       "      <td>14:DN3</td>\n",
       "    </tr>\n",
       "    <tr>\n",
       "      <th>20190814_CLK856_DD_CT06_AR20_TGTCGA</th>\n",
       "      <td>CLK856_DD</td>\n",
       "      <td>DD_2</td>\n",
       "      <td>DD</td>\n",
       "      <td>2019-08-14</td>\n",
       "      <td>CT06</td>\n",
       "      <td>8:LN_ITP</td>\n",
       "    </tr>\n",
       "  </tbody>\n",
       "</table>\n",
       "<p>2615 rows × 6 columns</p>\n",
       "</div>"
      ]
     },
     "execution_count": 21,
     "metadata": {},
     "output_type": "execute_result"
    }
   ],
   "execution_count": 21
  },
  {
   "cell_type": "code",
   "metadata": {
    "ExecuteTime": {
     "end_time": "2024-08-19T23:07:30.317323Z",
     "start_time": "2024-08-19T23:07:29.233807Z"
    }
   },
   "source": [
    "# Use the raw SQL query to get all tables\n",
    "query = \"SHOW TABLES\"\n",
    "tables_df = pd.read_sql(query, con=engine)\n",
    "tables_df"
   ],
   "outputs": [
    {
     "data": {
      "text/plain": [
       "  Tables_in_defaultdb\n",
       "0         annotations"
      ],
      "text/html": [
       "<div>\n",
       "<style scoped>\n",
       "    .dataframe tbody tr th:only-of-type {\n",
       "        vertical-align: middle;\n",
       "    }\n",
       "\n",
       "    .dataframe tbody tr th {\n",
       "        vertical-align: top;\n",
       "    }\n",
       "\n",
       "    .dataframe thead th {\n",
       "        text-align: right;\n",
       "    }\n",
       "</style>\n",
       "<table border=\"1\" class=\"dataframe\">\n",
       "  <thead>\n",
       "    <tr style=\"text-align: right;\">\n",
       "      <th></th>\n",
       "      <th>Tables_in_defaultdb</th>\n",
       "    </tr>\n",
       "  </thead>\n",
       "  <tbody>\n",
       "    <tr>\n",
       "      <th>0</th>\n",
       "      <td>annotations</td>\n",
       "    </tr>\n",
       "  </tbody>\n",
       "</table>\n",
       "</div>"
      ]
     },
     "execution_count": 22,
     "metadata": {},
     "output_type": "execute_result"
    }
   ],
   "execution_count": 22
  },
  {
   "cell_type": "code",
   "metadata": {
    "ExecuteTime": {
     "end_time": "2024-08-19T23:07:35.628754Z",
     "start_time": "2024-08-19T23:07:34.539762Z"
    }
   },
   "source": [
    "query = f\"DESCRIBE annotations\"\n",
    "columns_df = pd.read_sql(query, con=engine)\n",
    "columns_df"
   ],
   "outputs": [
    {
     "data": {
      "text/plain": [
       "         Field          Type Null  Key Default Extra\n",
       "0  single_cell      char(36)   NO  PRI    None      \n",
       "1   experiment  varchar(255)  YES         None      \n",
       "2      Repeats  varchar(255)  YES         None      \n",
       "3    condition  varchar(255)  YES         None      \n",
       "4         date          date  YES         None      \n",
       "5         time  varchar(255)  YES         None      \n",
       "6       Idents  varchar(255)  YES         None      "
      ],
      "text/html": [
       "<div>\n",
       "<style scoped>\n",
       "    .dataframe tbody tr th:only-of-type {\n",
       "        vertical-align: middle;\n",
       "    }\n",
       "\n",
       "    .dataframe tbody tr th {\n",
       "        vertical-align: top;\n",
       "    }\n",
       "\n",
       "    .dataframe thead th {\n",
       "        text-align: right;\n",
       "    }\n",
       "</style>\n",
       "<table border=\"1\" class=\"dataframe\">\n",
       "  <thead>\n",
       "    <tr style=\"text-align: right;\">\n",
       "      <th></th>\n",
       "      <th>Field</th>\n",
       "      <th>Type</th>\n",
       "      <th>Null</th>\n",
       "      <th>Key</th>\n",
       "      <th>Default</th>\n",
       "      <th>Extra</th>\n",
       "    </tr>\n",
       "  </thead>\n",
       "  <tbody>\n",
       "    <tr>\n",
       "      <th>0</th>\n",
       "      <td>single_cell</td>\n",
       "      <td>char(36)</td>\n",
       "      <td>NO</td>\n",
       "      <td>PRI</td>\n",
       "      <td>None</td>\n",
       "      <td></td>\n",
       "    </tr>\n",
       "    <tr>\n",
       "      <th>1</th>\n",
       "      <td>experiment</td>\n",
       "      <td>varchar(255)</td>\n",
       "      <td>YES</td>\n",
       "      <td></td>\n",
       "      <td>None</td>\n",
       "      <td></td>\n",
       "    </tr>\n",
       "    <tr>\n",
       "      <th>2</th>\n",
       "      <td>Repeats</td>\n",
       "      <td>varchar(255)</td>\n",
       "      <td>YES</td>\n",
       "      <td></td>\n",
       "      <td>None</td>\n",
       "      <td></td>\n",
       "    </tr>\n",
       "    <tr>\n",
       "      <th>3</th>\n",
       "      <td>condition</td>\n",
       "      <td>varchar(255)</td>\n",
       "      <td>YES</td>\n",
       "      <td></td>\n",
       "      <td>None</td>\n",
       "      <td></td>\n",
       "    </tr>\n",
       "    <tr>\n",
       "      <th>4</th>\n",
       "      <td>date</td>\n",
       "      <td>date</td>\n",
       "      <td>YES</td>\n",
       "      <td></td>\n",
       "      <td>None</td>\n",
       "      <td></td>\n",
       "    </tr>\n",
       "    <tr>\n",
       "      <th>5</th>\n",
       "      <td>time</td>\n",
       "      <td>varchar(255)</td>\n",
       "      <td>YES</td>\n",
       "      <td></td>\n",
       "      <td>None</td>\n",
       "      <td></td>\n",
       "    </tr>\n",
       "    <tr>\n",
       "      <th>6</th>\n",
       "      <td>Idents</td>\n",
       "      <td>varchar(255)</td>\n",
       "      <td>YES</td>\n",
       "      <td></td>\n",
       "      <td>None</td>\n",
       "      <td></td>\n",
       "    </tr>\n",
       "  </tbody>\n",
       "</table>\n",
       "</div>"
      ]
     },
     "execution_count": 23,
     "metadata": {},
     "output_type": "execute_result"
    }
   ],
   "execution_count": 23
  },
  {
   "metadata": {
    "ExecuteTime": {
     "end_time": "2024-08-19T23:08:01.709826Z",
     "start_time": "2024-08-19T23:08:00.955511Z"
    }
   },
   "cell_type": "code",
   "source": [
    "with engine.connect() as connection:\n",
    "    connection.execute(text('COMMIT'))"
   ],
   "outputs": [],
   "execution_count": 24
  },
  {
   "metadata": {
    "ExecuteTime": {
     "end_time": "2024-08-16T18:01:02.575082Z",
     "start_time": "2024-08-16T18:01:01.458483Z"
    }
   },
   "cell_type": "code",
   "source": "pd.read_sql(\"SHOW TABLES\", con=engine)",
   "outputs": [
    {
     "data": {
      "text/plain": [
       "              Tables_in_defaultdb\n",
       "0   GSM4768020_CT02_20190528_AR05\n",
       "1   GSM4768021_CT02_20190528_AR06\n",
       "2   GSM4768022_CT02_20190528_AR07\n",
       "3   GSM4768023_CT02_20190528_AR08\n",
       "4   GSM4768024_CT02_20190702_AR13\n",
       "5   GSM4768025_CT02_20190702_AR14\n",
       "6   GSM4768026_CT02_20190702_AR15\n",
       "7   GSM4768027_CT02_20190702_AR16\n",
       "8   GSM4768028_CT06_20190710_AR01\n",
       "9   GSM4768029_CT06_20190710_AR02\n",
       "10  GSM4768030_CT06_20190710_AR03\n",
       "11  GSM4768031_CT06_20190710_AR04\n",
       "12  GSM4768032_CT06_20190719_AR17\n",
       "13                         mytest"
      ],
      "text/html": [
       "<div>\n",
       "<style scoped>\n",
       "    .dataframe tbody tr th:only-of-type {\n",
       "        vertical-align: middle;\n",
       "    }\n",
       "\n",
       "    .dataframe tbody tr th {\n",
       "        vertical-align: top;\n",
       "    }\n",
       "\n",
       "    .dataframe thead th {\n",
       "        text-align: right;\n",
       "    }\n",
       "</style>\n",
       "<table border=\"1\" class=\"dataframe\">\n",
       "  <thead>\n",
       "    <tr style=\"text-align: right;\">\n",
       "      <th></th>\n",
       "      <th>Tables_in_defaultdb</th>\n",
       "    </tr>\n",
       "  </thead>\n",
       "  <tbody>\n",
       "    <tr>\n",
       "      <th>0</th>\n",
       "      <td>GSM4768020_CT02_20190528_AR05</td>\n",
       "    </tr>\n",
       "    <tr>\n",
       "      <th>1</th>\n",
       "      <td>GSM4768021_CT02_20190528_AR06</td>\n",
       "    </tr>\n",
       "    <tr>\n",
       "      <th>2</th>\n",
       "      <td>GSM4768022_CT02_20190528_AR07</td>\n",
       "    </tr>\n",
       "    <tr>\n",
       "      <th>3</th>\n",
       "      <td>GSM4768023_CT02_20190528_AR08</td>\n",
       "    </tr>\n",
       "    <tr>\n",
       "      <th>4</th>\n",
       "      <td>GSM4768024_CT02_20190702_AR13</td>\n",
       "    </tr>\n",
       "    <tr>\n",
       "      <th>5</th>\n",
       "      <td>GSM4768025_CT02_20190702_AR14</td>\n",
       "    </tr>\n",
       "    <tr>\n",
       "      <th>6</th>\n",
       "      <td>GSM4768026_CT02_20190702_AR15</td>\n",
       "    </tr>\n",
       "    <tr>\n",
       "      <th>7</th>\n",
       "      <td>GSM4768027_CT02_20190702_AR16</td>\n",
       "    </tr>\n",
       "    <tr>\n",
       "      <th>8</th>\n",
       "      <td>GSM4768028_CT06_20190710_AR01</td>\n",
       "    </tr>\n",
       "    <tr>\n",
       "      <th>9</th>\n",
       "      <td>GSM4768029_CT06_20190710_AR02</td>\n",
       "    </tr>\n",
       "    <tr>\n",
       "      <th>10</th>\n",
       "      <td>GSM4768030_CT06_20190710_AR03</td>\n",
       "    </tr>\n",
       "    <tr>\n",
       "      <th>11</th>\n",
       "      <td>GSM4768031_CT06_20190710_AR04</td>\n",
       "    </tr>\n",
       "    <tr>\n",
       "      <th>12</th>\n",
       "      <td>GSM4768032_CT06_20190719_AR17</td>\n",
       "    </tr>\n",
       "    <tr>\n",
       "      <th>13</th>\n",
       "      <td>mytest</td>\n",
       "    </tr>\n",
       "  </tbody>\n",
       "</table>\n",
       "</div>"
      ]
     },
     "execution_count": 59,
     "metadata": {},
     "output_type": "execute_result"
    }
   ],
   "execution_count": 59
  }
 ],
 "metadata": {
  "kernelspec": {
   "display_name": "psivenv",
   "language": "python",
   "name": "python3"
  },
  "language_info": {
   "codemirror_mode": {
    "name": "ipython",
    "version": 3
   },
   "file_extension": ".py",
   "mimetype": "text/x-python",
   "name": "python",
   "nbconvert_exporter": "python",
   "pygments_lexer": "ipython3",
   "version": "3.12.3"
  }
 },
 "nbformat": 4,
 "nbformat_minor": 2
}
